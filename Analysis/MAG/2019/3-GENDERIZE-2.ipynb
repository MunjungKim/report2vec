{
 "cells": [
  {
   "cell_type": "code",
   "execution_count": 13,
   "metadata": {},
   "outputs": [],
   "source": [
    "import pandas as pd\n",
    "import re"
   ]
  },
  {
   "cell_type": "code",
   "execution_count": 3,
   "metadata": {},
   "outputs": [],
   "source": [
    "Paperid_author_df = pd.read_csv('/data02/MAG_PROCESSED_DATA/2019FILE/PaperAuthorAffiliation_2019.csv')"
   ]
  },
  {
   "cell_type": "code",
   "execution_count": 4,
   "metadata": {},
   "outputs": [
    {
     "data": {
      "text/plain": [
       "13261598"
      ]
     },
     "execution_count": 4,
     "metadata": {},
     "output_type": "execute_result"
    }
   ],
   "source": [
    "len(Paperid_author_df)-16437465 "
   ]
  },
  {
   "cell_type": "code",
   "execution_count": 5,
   "metadata": {},
   "outputs": [],
   "source": [
    "Paperid_author_df_first = Paperid_author_df[Paperid_author_df['AuthorSequenceNumber']==1]"
   ]
  },
  {
   "cell_type": "code",
   "execution_count": 6,
   "metadata": {},
   "outputs": [],
   "source": [
    "Paperid_author_df_last =Paperid_author_df[Paperid_author_df.groupby(['PaperId'])['AuthorSequenceNumber'].transform(max) == Paperid_author_df['AuthorSequenceNumber']]"
   ]
  },
  {
   "cell_type": "code",
   "execution_count": 7,
   "metadata": {},
   "outputs": [
    {
     "data": {
      "text/html": [
       "<div>\n",
       "<style scoped>\n",
       "    .dataframe tbody tr th:only-of-type {\n",
       "        vertical-align: middle;\n",
       "    }\n",
       "\n",
       "    .dataframe tbody tr th {\n",
       "        vertical-align: top;\n",
       "    }\n",
       "\n",
       "    .dataframe thead th {\n",
       "        text-align: right;\n",
       "    }\n",
       "</style>\n",
       "<table border=\"1\" class=\"dataframe\">\n",
       "  <thead>\n",
       "    <tr style=\"text-align: right;\">\n",
       "      <th></th>\n",
       "      <th>PaperId</th>\n",
       "      <th>AuthorId</th>\n",
       "      <th>AffiliationId</th>\n",
       "      <th>AuthorSequenceNumber</th>\n",
       "      <th>OriginalAuthor</th>\n",
       "      <th>OriginalAffiliation</th>\n",
       "    </tr>\n",
       "  </thead>\n",
       "  <tbody>\n",
       "    <tr>\n",
       "      <td>769</td>\n",
       "      <td>7100</td>\n",
       "      <td>142944460</td>\n",
       "      <td>120760893.0</td>\n",
       "      <td>4</td>\n",
       "      <td>Tristan A Canare</td>\n",
       "      <td>Asian Institute of Management Policy Center</td>\n",
       "    </tr>\n",
       "    <tr>\n",
       "      <td>24912</td>\n",
       "      <td>255444</td>\n",
       "      <td>2611952845</td>\n",
       "      <td>52357470.0</td>\n",
       "      <td>1</td>\n",
       "      <td>Ryan D. Shaughnessy</td>\n",
       "      <td>The Ohio State University</td>\n",
       "    </tr>\n",
       "    <tr>\n",
       "      <td>29163</td>\n",
       "      <td>299788</td>\n",
       "      <td>2066108598</td>\n",
       "      <td>NaN</td>\n",
       "      <td>1</td>\n",
       "      <td>Marjolein Wintzen</td>\n",
       "      <td>NaN</td>\n",
       "    </tr>\n",
       "    <tr>\n",
       "      <td>50332</td>\n",
       "      <td>526736</td>\n",
       "      <td>2631004930</td>\n",
       "      <td>NaN</td>\n",
       "      <td>1</td>\n",
       "      <td>Jessica Glicken Turnley</td>\n",
       "      <td>NaN</td>\n",
       "    </tr>\n",
       "    <tr>\n",
       "      <td>50973</td>\n",
       "      <td>533592</td>\n",
       "      <td>2421589540</td>\n",
       "      <td>NaN</td>\n",
       "      <td>1</td>\n",
       "      <td>Stefano Raschietti</td>\n",
       "      <td>NaN</td>\n",
       "    </tr>\n",
       "    <tr>\n",
       "      <td>...</td>\n",
       "      <td>...</td>\n",
       "      <td>...</td>\n",
       "      <td>...</td>\n",
       "      <td>...</td>\n",
       "      <td>...</td>\n",
       "      <td>...</td>\n",
       "    </tr>\n",
       "    <tr>\n",
       "      <td>720927428</td>\n",
       "      <td>3204966767</td>\n",
       "      <td>3203928662</td>\n",
       "      <td>NaN</td>\n",
       "      <td>1</td>\n",
       "      <td>Steven Crump</td>\n",
       "      <td>NaN</td>\n",
       "    </tr>\n",
       "    <tr>\n",
       "      <td>720927978</td>\n",
       "      <td>3204967588</td>\n",
       "      <td>3204462236</td>\n",
       "      <td>NaN</td>\n",
       "      <td>2</td>\n",
       "      <td>Desan Iyer</td>\n",
       "      <td>NaN</td>\n",
       "    </tr>\n",
       "    <tr>\n",
       "      <td>720928029</td>\n",
       "      <td>3204967664</td>\n",
       "      <td>3203931139</td>\n",
       "      <td>NaN</td>\n",
       "      <td>1</td>\n",
       "      <td>Arfan Arsyad</td>\n",
       "      <td>NaN</td>\n",
       "    </tr>\n",
       "    <tr>\n",
       "      <td>720928605</td>\n",
       "      <td>3204968543</td>\n",
       "      <td>2742007466</td>\n",
       "      <td>NaN</td>\n",
       "      <td>3</td>\n",
       "      <td>Ir. M. Nur Cahyanto</td>\n",
       "      <td>NaN</td>\n",
       "    </tr>\n",
       "    <tr>\n",
       "      <td>720928615</td>\n",
       "      <td>3204968560</td>\n",
       "      <td>3122630069</td>\n",
       "      <td>NaN</td>\n",
       "      <td>3</td>\n",
       "      <td>张瑶瑶</td>\n",
       "      <td>NaN</td>\n",
       "    </tr>\n",
       "  </tbody>\n",
       "</table>\n",
       "<p>8212237 rows × 6 columns</p>\n",
       "</div>"
      ],
      "text/plain": [
       "              PaperId    AuthorId  AffiliationId  AuthorSequenceNumber  \\\n",
       "769              7100   142944460    120760893.0                     4   \n",
       "24912          255444  2611952845     52357470.0                     1   \n",
       "29163          299788  2066108598            NaN                     1   \n",
       "50332          526736  2631004930            NaN                     1   \n",
       "50973          533592  2421589540            NaN                     1   \n",
       "...               ...         ...            ...                   ...   \n",
       "720927428  3204966767  3203928662            NaN                     1   \n",
       "720927978  3204967588  3204462236            NaN                     2   \n",
       "720928029  3204967664  3203931139            NaN                     1   \n",
       "720928605  3204968543  2742007466            NaN                     3   \n",
       "720928615  3204968560  3122630069            NaN                     3   \n",
       "\n",
       "                    OriginalAuthor  \\\n",
       "769               Tristan A Canare   \n",
       "24912          Ryan D. Shaughnessy   \n",
       "29163            Marjolein Wintzen   \n",
       "50332      Jessica Glicken Turnley   \n",
       "50973           Stefano Raschietti   \n",
       "...                            ...   \n",
       "720927428             Steven Crump   \n",
       "720927978               Desan Iyer   \n",
       "720928029             Arfan Arsyad   \n",
       "720928605      Ir. M. Nur Cahyanto   \n",
       "720928615                      张瑶瑶   \n",
       "\n",
       "                                   OriginalAffiliation  \n",
       "769        Asian Institute of Management Policy Center  \n",
       "24912                        The Ohio State University  \n",
       "29163                                              NaN  \n",
       "50332                                              NaN  \n",
       "50973                                              NaN  \n",
       "...                                                ...  \n",
       "720927428                                          NaN  \n",
       "720927978                                          NaN  \n",
       "720928029                                          NaN  \n",
       "720928605                                          NaN  \n",
       "720928615                                          NaN  \n",
       "\n",
       "[8212237 rows x 6 columns]"
      ]
     },
     "execution_count": 7,
     "metadata": {},
     "output_type": "execute_result"
    }
   ],
   "source": [
    "Paperid_author_df_last"
   ]
  },
  {
   "cell_type": "code",
   "execution_count": 8,
   "metadata": {},
   "outputs": [
    {
     "data": {
      "text/html": [
       "<div>\n",
       "<style scoped>\n",
       "    .dataframe tbody tr th:only-of-type {\n",
       "        vertical-align: middle;\n",
       "    }\n",
       "\n",
       "    .dataframe tbody tr th {\n",
       "        vertical-align: top;\n",
       "    }\n",
       "\n",
       "    .dataframe thead th {\n",
       "        text-align: right;\n",
       "    }\n",
       "</style>\n",
       "<table border=\"1\" class=\"dataframe\">\n",
       "  <thead>\n",
       "    <tr style=\"text-align: right;\">\n",
       "      <th></th>\n",
       "      <th>PaperId</th>\n",
       "      <th>AuthorId</th>\n",
       "      <th>AffiliationId</th>\n",
       "      <th>AuthorSequenceNumber</th>\n",
       "      <th>OriginalAuthor</th>\n",
       "      <th>OriginalAffiliation</th>\n",
       "    </tr>\n",
       "  </thead>\n",
       "  <tbody>\n",
       "    <tr>\n",
       "      <td>771</td>\n",
       "      <td>7100</td>\n",
       "      <td>2285146092</td>\n",
       "      <td>19722.0</td>\n",
       "      <td>1</td>\n",
       "      <td>Ronald U Mendoza</td>\n",
       "      <td>Ateneo De Manila University - Ateneo School of...</td>\n",
       "    </tr>\n",
       "    <tr>\n",
       "      <td>24912</td>\n",
       "      <td>255444</td>\n",
       "      <td>2611952845</td>\n",
       "      <td>52357470.0</td>\n",
       "      <td>1</td>\n",
       "      <td>Ryan D. Shaughnessy</td>\n",
       "      <td>The Ohio State University</td>\n",
       "    </tr>\n",
       "    <tr>\n",
       "      <td>29163</td>\n",
       "      <td>299788</td>\n",
       "      <td>2066108598</td>\n",
       "      <td>NaN</td>\n",
       "      <td>1</td>\n",
       "      <td>Marjolein Wintzen</td>\n",
       "      <td>NaN</td>\n",
       "    </tr>\n",
       "    <tr>\n",
       "      <td>50332</td>\n",
       "      <td>526736</td>\n",
       "      <td>2631004930</td>\n",
       "      <td>NaN</td>\n",
       "      <td>1</td>\n",
       "      <td>Jessica Glicken Turnley</td>\n",
       "      <td>NaN</td>\n",
       "    </tr>\n",
       "    <tr>\n",
       "      <td>50973</td>\n",
       "      <td>533592</td>\n",
       "      <td>2421589540</td>\n",
       "      <td>NaN</td>\n",
       "      <td>1</td>\n",
       "      <td>Stefano Raschietti</td>\n",
       "      <td>NaN</td>\n",
       "    </tr>\n",
       "    <tr>\n",
       "      <td>...</td>\n",
       "      <td>...</td>\n",
       "      <td>...</td>\n",
       "      <td>...</td>\n",
       "      <td>...</td>\n",
       "      <td>...</td>\n",
       "      <td>...</td>\n",
       "    </tr>\n",
       "    <tr>\n",
       "      <td>720927428</td>\n",
       "      <td>3204966767</td>\n",
       "      <td>3203928662</td>\n",
       "      <td>NaN</td>\n",
       "      <td>1</td>\n",
       "      <td>Steven Crump</td>\n",
       "      <td>NaN</td>\n",
       "    </tr>\n",
       "    <tr>\n",
       "      <td>720927977</td>\n",
       "      <td>3204967588</td>\n",
       "      <td>3201917616</td>\n",
       "      <td>NaN</td>\n",
       "      <td>1</td>\n",
       "      <td>Mafuku Tholaine Matadi</td>\n",
       "      <td>NaN</td>\n",
       "    </tr>\n",
       "    <tr>\n",
       "      <td>720928029</td>\n",
       "      <td>3204967664</td>\n",
       "      <td>3203931139</td>\n",
       "      <td>NaN</td>\n",
       "      <td>1</td>\n",
       "      <td>Arfan Arsyad</td>\n",
       "      <td>NaN</td>\n",
       "    </tr>\n",
       "    <tr>\n",
       "      <td>720928606</td>\n",
       "      <td>3204968543</td>\n",
       "      <td>3204904606</td>\n",
       "      <td>NaN</td>\n",
       "      <td>1</td>\n",
       "      <td>Annisa Aulia Rahmah</td>\n",
       "      <td>NaN</td>\n",
       "    </tr>\n",
       "    <tr>\n",
       "      <td>720928616</td>\n",
       "      <td>3204968560</td>\n",
       "      <td>3125294930</td>\n",
       "      <td>NaN</td>\n",
       "      <td>1</td>\n",
       "      <td>伍广朋</td>\n",
       "      <td>NaN</td>\n",
       "    </tr>\n",
       "  </tbody>\n",
       "</table>\n",
       "<p>8225228 rows × 6 columns</p>\n",
       "</div>"
      ],
      "text/plain": [
       "              PaperId    AuthorId  AffiliationId  AuthorSequenceNumber  \\\n",
       "771              7100  2285146092        19722.0                     1   \n",
       "24912          255444  2611952845     52357470.0                     1   \n",
       "29163          299788  2066108598            NaN                     1   \n",
       "50332          526736  2631004930            NaN                     1   \n",
       "50973          533592  2421589540            NaN                     1   \n",
       "...               ...         ...            ...                   ...   \n",
       "720927428  3204966767  3203928662            NaN                     1   \n",
       "720927977  3204967588  3201917616            NaN                     1   \n",
       "720928029  3204967664  3203931139            NaN                     1   \n",
       "720928606  3204968543  3204904606            NaN                     1   \n",
       "720928616  3204968560  3125294930            NaN                     1   \n",
       "\n",
       "                    OriginalAuthor  \\\n",
       "771               Ronald U Mendoza   \n",
       "24912          Ryan D. Shaughnessy   \n",
       "29163            Marjolein Wintzen   \n",
       "50332      Jessica Glicken Turnley   \n",
       "50973           Stefano Raschietti   \n",
       "...                            ...   \n",
       "720927428             Steven Crump   \n",
       "720927977   Mafuku Tholaine Matadi   \n",
       "720928029             Arfan Arsyad   \n",
       "720928606      Annisa Aulia Rahmah   \n",
       "720928616                      伍广朋   \n",
       "\n",
       "                                         OriginalAffiliation  \n",
       "771        Ateneo De Manila University - Ateneo School of...  \n",
       "24912                              The Ohio State University  \n",
       "29163                                                    NaN  \n",
       "50332                                                    NaN  \n",
       "50973                                                    NaN  \n",
       "...                                                      ...  \n",
       "720927428                                                NaN  \n",
       "720927977                                                NaN  \n",
       "720928029                                                NaN  \n",
       "720928606                                                NaN  \n",
       "720928616                                                NaN  \n",
       "\n",
       "[8225228 rows x 6 columns]"
      ]
     },
     "execution_count": 8,
     "metadata": {},
     "output_type": "execute_result"
    }
   ],
   "source": [
    "Paperid_author_df_first"
   ]
  },
  {
   "cell_type": "code",
   "execution_count": 9,
   "metadata": {},
   "outputs": [],
   "source": [
    "Paperid_author_df_first_last = pd.concat([Paperid_author_df_first,Paperid_author_df_last])"
   ]
  },
  {
   "cell_type": "code",
   "execution_count": 10,
   "metadata": {},
   "outputs": [
    {
     "data": {
      "text/html": [
       "<div>\n",
       "<style scoped>\n",
       "    .dataframe tbody tr th:only-of-type {\n",
       "        vertical-align: middle;\n",
       "    }\n",
       "\n",
       "    .dataframe tbody tr th {\n",
       "        vertical-align: top;\n",
       "    }\n",
       "\n",
       "    .dataframe thead th {\n",
       "        text-align: right;\n",
       "    }\n",
       "</style>\n",
       "<table border=\"1\" class=\"dataframe\">\n",
       "  <thead>\n",
       "    <tr style=\"text-align: right;\">\n",
       "      <th></th>\n",
       "      <th>PaperId</th>\n",
       "      <th>AuthorId</th>\n",
       "      <th>AffiliationId</th>\n",
       "      <th>AuthorSequenceNumber</th>\n",
       "      <th>OriginalAuthor</th>\n",
       "      <th>OriginalAffiliation</th>\n",
       "    </tr>\n",
       "  </thead>\n",
       "  <tbody>\n",
       "    <tr>\n",
       "      <td>771</td>\n",
       "      <td>7100</td>\n",
       "      <td>2285146092</td>\n",
       "      <td>19722.0</td>\n",
       "      <td>1</td>\n",
       "      <td>Ronald U Mendoza</td>\n",
       "      <td>Ateneo De Manila University - Ateneo School of...</td>\n",
       "    </tr>\n",
       "    <tr>\n",
       "      <td>24912</td>\n",
       "      <td>255444</td>\n",
       "      <td>2611952845</td>\n",
       "      <td>52357470.0</td>\n",
       "      <td>1</td>\n",
       "      <td>Ryan D. Shaughnessy</td>\n",
       "      <td>The Ohio State University</td>\n",
       "    </tr>\n",
       "    <tr>\n",
       "      <td>29163</td>\n",
       "      <td>299788</td>\n",
       "      <td>2066108598</td>\n",
       "      <td>NaN</td>\n",
       "      <td>1</td>\n",
       "      <td>Marjolein Wintzen</td>\n",
       "      <td>NaN</td>\n",
       "    </tr>\n",
       "    <tr>\n",
       "      <td>50332</td>\n",
       "      <td>526736</td>\n",
       "      <td>2631004930</td>\n",
       "      <td>NaN</td>\n",
       "      <td>1</td>\n",
       "      <td>Jessica Glicken Turnley</td>\n",
       "      <td>NaN</td>\n",
       "    </tr>\n",
       "    <tr>\n",
       "      <td>50973</td>\n",
       "      <td>533592</td>\n",
       "      <td>2421589540</td>\n",
       "      <td>NaN</td>\n",
       "      <td>1</td>\n",
       "      <td>Stefano Raschietti</td>\n",
       "      <td>NaN</td>\n",
       "    </tr>\n",
       "    <tr>\n",
       "      <td>...</td>\n",
       "      <td>...</td>\n",
       "      <td>...</td>\n",
       "      <td>...</td>\n",
       "      <td>...</td>\n",
       "      <td>...</td>\n",
       "      <td>...</td>\n",
       "    </tr>\n",
       "    <tr>\n",
       "      <td>720927428</td>\n",
       "      <td>3204966767</td>\n",
       "      <td>3203928662</td>\n",
       "      <td>NaN</td>\n",
       "      <td>1</td>\n",
       "      <td>Steven Crump</td>\n",
       "      <td>NaN</td>\n",
       "    </tr>\n",
       "    <tr>\n",
       "      <td>720927978</td>\n",
       "      <td>3204967588</td>\n",
       "      <td>3204462236</td>\n",
       "      <td>NaN</td>\n",
       "      <td>2</td>\n",
       "      <td>Desan Iyer</td>\n",
       "      <td>NaN</td>\n",
       "    </tr>\n",
       "    <tr>\n",
       "      <td>720928029</td>\n",
       "      <td>3204967664</td>\n",
       "      <td>3203931139</td>\n",
       "      <td>NaN</td>\n",
       "      <td>1</td>\n",
       "      <td>Arfan Arsyad</td>\n",
       "      <td>NaN</td>\n",
       "    </tr>\n",
       "    <tr>\n",
       "      <td>720928605</td>\n",
       "      <td>3204968543</td>\n",
       "      <td>2742007466</td>\n",
       "      <td>NaN</td>\n",
       "      <td>3</td>\n",
       "      <td>Ir. M. Nur Cahyanto</td>\n",
       "      <td>NaN</td>\n",
       "    </tr>\n",
       "    <tr>\n",
       "      <td>720928615</td>\n",
       "      <td>3204968560</td>\n",
       "      <td>3122630069</td>\n",
       "      <td>NaN</td>\n",
       "      <td>3</td>\n",
       "      <td>张瑶瑶</td>\n",
       "      <td>NaN</td>\n",
       "    </tr>\n",
       "  </tbody>\n",
       "</table>\n",
       "<p>16437465 rows × 6 columns</p>\n",
       "</div>"
      ],
      "text/plain": [
       "              PaperId    AuthorId  AffiliationId  AuthorSequenceNumber  \\\n",
       "771              7100  2285146092        19722.0                     1   \n",
       "24912          255444  2611952845     52357470.0                     1   \n",
       "29163          299788  2066108598            NaN                     1   \n",
       "50332          526736  2631004930            NaN                     1   \n",
       "50973          533592  2421589540            NaN                     1   \n",
       "...               ...         ...            ...                   ...   \n",
       "720927428  3204966767  3203928662            NaN                     1   \n",
       "720927978  3204967588  3204462236            NaN                     2   \n",
       "720928029  3204967664  3203931139            NaN                     1   \n",
       "720928605  3204968543  2742007466            NaN                     3   \n",
       "720928615  3204968560  3122630069            NaN                     3   \n",
       "\n",
       "                    OriginalAuthor  \\\n",
       "771               Ronald U Mendoza   \n",
       "24912          Ryan D. Shaughnessy   \n",
       "29163            Marjolein Wintzen   \n",
       "50332      Jessica Glicken Turnley   \n",
       "50973           Stefano Raschietti   \n",
       "...                            ...   \n",
       "720927428             Steven Crump   \n",
       "720927978               Desan Iyer   \n",
       "720928029             Arfan Arsyad   \n",
       "720928605      Ir. M. Nur Cahyanto   \n",
       "720928615                      张瑶瑶   \n",
       "\n",
       "                                         OriginalAffiliation  \n",
       "771        Ateneo De Manila University - Ateneo School of...  \n",
       "24912                              The Ohio State University  \n",
       "29163                                                    NaN  \n",
       "50332                                                    NaN  \n",
       "50973                                                    NaN  \n",
       "...                                                      ...  \n",
       "720927428                                                NaN  \n",
       "720927978                                                NaN  \n",
       "720928029                                                NaN  \n",
       "720928605                                                NaN  \n",
       "720928615                                                NaN  \n",
       "\n",
       "[16437465 rows x 6 columns]"
      ]
     },
     "execution_count": 10,
     "metadata": {},
     "output_type": "execute_result"
    }
   ],
   "source": [
    "Paperid_author_df_first_last"
   ]
  },
  {
   "cell_type": "code",
   "execution_count": null,
   "metadata": {},
   "outputs": [],
   "source": []
  },
  {
   "cell_type": "code",
   "execution_count": null,
   "metadata": {},
   "outputs": [],
   "source": []
  },
  {
   "cell_type": "code",
   "execution_count": null,
   "metadata": {},
   "outputs": [],
   "source": []
  },
  {
   "cell_type": "markdown",
   "metadata": {},
   "source": [
    "# Genderize"
   ]
  },
  {
   "cell_type": "code",
   "execution_count": 16,
   "metadata": {
    "collapsed": true,
    "jupyter": {
     "outputs_hidden": true
    }
   },
   "outputs": [
    {
     "name": "stdout",
     "output_type": "stream",
     "text": [
      "Collecting wikipedia\n",
      "  Downloading https://files.pythonhosted.org/packages/67/35/25e68fbc99e672127cc6fbb14b8ec1ba3dfef035bf1e4c90f78f24a80b7d/wikipedia-1.4.0.tar.gz\n",
      "Requirement already satisfied: beautifulsoup4 in /home/munj/anaconda3/lib/python3.7/site-packages (from wikipedia) (4.8.0)\n",
      "Requirement already satisfied: requests<3.0.0,>=2.0.0 in /home/munj/anaconda3/lib/python3.7/site-packages (from wikipedia) (2.22.0)\n",
      "Requirement already satisfied: soupsieve>=1.2 in /home/munj/anaconda3/lib/python3.7/site-packages (from beautifulsoup4->wikipedia) (1.9.3)\n",
      "Requirement already satisfied: certifi>=2017.4.17 in /home/munj/anaconda3/lib/python3.7/site-packages (from requests<3.0.0,>=2.0.0->wikipedia) (2019.9.11)\n",
      "Requirement already satisfied: urllib3!=1.25.0,!=1.25.1,<1.26,>=1.21.1 in /home/munj/anaconda3/lib/python3.7/site-packages (from requests<3.0.0,>=2.0.0->wikipedia) (1.24.2)\n",
      "Requirement already satisfied: idna<2.9,>=2.5 in /home/munj/anaconda3/lib/python3.7/site-packages (from requests<3.0.0,>=2.0.0->wikipedia) (2.8)\n",
      "Requirement already satisfied: chardet<3.1.0,>=3.0.2 in /home/munj/anaconda3/lib/python3.7/site-packages (from requests<3.0.0,>=2.0.0->wikipedia) (3.0.4)\n",
      "Building wheels for collected packages: wikipedia\n",
      "  Building wheel for wikipedia (setup.py) ... \u001b[?25ldone\n",
      "\u001b[?25h  Created wheel for wikipedia: filename=wikipedia-1.4.0-cp37-none-any.whl size=11686 sha256=5168535455bbe043017979b62b328273bd9b021a4e051f1553194c757bcd911d\n",
      "  Stored in directory: /home/munj/.cache/pip/wheels/87/2a/18/4e471fd96d12114d16fe4a446d00c3b38fb9efcb744bd31f4a\n",
      "Successfully built wikipedia\n",
      "Installing collected packages: wikipedia\n",
      "Successfully installed wikipedia-1.4.0\n"
     ]
    }
   ],
   "source": [
    "! pip install wikipedia"
   ]
  },
  {
   "cell_type": "code",
   "execution_count": 17,
   "metadata": {},
   "outputs": [],
   "source": [
    "from Wiki_Gendersort.Wiki_Gendersort import nameclean"
   ]
  },
  {
   "cell_type": "code",
   "execution_count": 115,
   "metadata": {},
   "outputs": [
    {
     "name": "stdout",
     "output_type": "stream",
     "text": [
      "[{'name': 'James', 'gender': 'male', 'probability': 0.99, 'count': 117309}, {'name': 'Eva', 'gender': 'female', 'probability': 0.98, 'count': 135031}, {'name': 'Thunderhorse', 'gender': 'male', 'probability': 1.0, 'count': 1}]\n"
     ]
    }
   ],
   "source": [
    "from genderize_1.genderize import Genderize\n",
    "print(Genderize().get(['James', 'Eva', 'Thunderhorse']))"
   ]
  },
  {
   "cell_type": "code",
   "execution_count": 92,
   "metadata": {},
   "outputs": [
    {
     "data": {
      "text/html": [
       "<div>\n",
       "<style scoped>\n",
       "    .dataframe tbody tr th:only-of-type {\n",
       "        vertical-align: middle;\n",
       "    }\n",
       "\n",
       "    .dataframe tbody tr th {\n",
       "        vertical-align: top;\n",
       "    }\n",
       "\n",
       "    .dataframe thead th {\n",
       "        text-align: right;\n",
       "    }\n",
       "</style>\n",
       "<table border=\"1\" class=\"dataframe\">\n",
       "  <thead>\n",
       "    <tr style=\"text-align: right;\">\n",
       "      <th></th>\n",
       "      <th>name</th>\n",
       "      <th>gender</th>\n",
       "      <th>probability</th>\n",
       "      <th>count</th>\n",
       "    </tr>\n",
       "  </thead>\n",
       "  <tbody>\n",
       "    <tr>\n",
       "      <td>0</td>\n",
       "      <td>James</td>\n",
       "      <td>male</td>\n",
       "      <td>0.99</td>\n",
       "      <td>117309</td>\n",
       "    </tr>\n",
       "    <tr>\n",
       "      <td>1</td>\n",
       "      <td>Eva</td>\n",
       "      <td>female</td>\n",
       "      <td>0.98</td>\n",
       "      <td>135031</td>\n",
       "    </tr>\n",
       "    <tr>\n",
       "      <td>2</td>\n",
       "      <td>Thunderhorse</td>\n",
       "      <td>male</td>\n",
       "      <td>1.00</td>\n",
       "      <td>1</td>\n",
       "    </tr>\n",
       "  </tbody>\n",
       "</table>\n",
       "</div>"
      ],
      "text/plain": [
       "           name  gender  probability   count\n",
       "0         James    male         0.99  117309\n",
       "1           Eva  female         0.98  135031\n",
       "2  Thunderhorse    male         1.00       1"
      ]
     },
     "execution_count": 92,
     "metadata": {},
     "output_type": "execute_result"
    }
   ],
   "source": [
    "pd.DataFrame(Genderize().get(['James', 'Eva', 'Thunderhorse']))"
   ]
  },
  {
   "cell_type": "code",
   "execution_count": 22,
   "metadata": {},
   "outputs": [
    {
     "data": {
      "text/plain": [
       "'Ronald U Mendoza'"
      ]
     },
     "execution_count": 22,
     "metadata": {},
     "output_type": "execute_result"
    }
   ],
   "source": [
    "Paperid_author_df_first_last['OriginalAuthor'][771]"
   ]
  },
  {
   "cell_type": "code",
   "execution_count": 27,
   "metadata": {},
   "outputs": [
    {
     "name": "stdout",
     "output_type": "stream",
     "text": [
      "RonaldUMendoza\n"
     ]
    },
    {
     "data": {
      "text/plain": [
       "''"
      ]
     },
     "execution_count": 27,
     "metadata": {},
     "output_type": "execute_result"
    }
   ],
   "source": [
    "clean_name('Ronald U Mendoza')"
   ]
  },
  {
   "cell_type": "code",
   "execution_count": 26,
   "metadata": {},
   "outputs": [],
   "source": [
    "def clean_name(name):\n",
    "\n",
    "\n",
    "\n",
    "    name_list = name.split(\" \")\n",
    "    del name_list[-1]\n",
    "    \n",
    "    firstname = \"\"\n",
    "    for char in name_list:\n",
    "        \n",
    "        if len(char) ==0:\n",
    "            continue\n",
    "            \n",
    "        if '.' in char:\n",
    "            continue\n",
    "        if len(char) ==1:\n",
    "            continue\n",
    "        else:\n",
    "            firstname = char\n",
    "            break\n",
    "        \n",
    "#     firstname = \" \".join(firstname_list)\n",
    "    return firstname.lower()\n",
    "    \n",
    "    "
   ]
  },
  {
   "cell_type": "code",
   "execution_count": 15,
   "metadata": {},
   "outputs": [],
   "source": [
    "cleaned_name =Paperid_author_df_first_last['OriginalAuthor'].apply(lambda x: clean_name(x))"
   ]
  },
  {
   "cell_type": "code",
   "execution_count": 19,
   "metadata": {},
   "outputs": [
    {
     "data": {
      "text/plain": [
       "771      \n",
       "24912    \n",
       "29163    \n",
       "50332    \n",
       "50973    \n",
       "Name: OriginalAuthor, dtype: object"
      ]
     },
     "execution_count": 19,
     "metadata": {},
     "output_type": "execute_result"
    }
   ],
   "source": [
    "cleaned_name.head()"
   ]
  },
  {
   "cell_type": "code",
   "execution_count": 17,
   "metadata": {},
   "outputs": [],
   "source": [
    "cleaned_name_set = set(cleaned_name)"
   ]
  },
  {
   "cell_type": "code",
   "execution_count": 18,
   "metadata": {},
   "outputs": [
    {
     "data": {
      "text/plain": [
       "1"
      ]
     },
     "execution_count": 18,
     "metadata": {},
     "output_type": "execute_result"
    }
   ],
   "source": [
    "len(cleaned_name_set)"
   ]
  },
  {
   "cell_type": "code",
   "execution_count": 35,
   "metadata": {},
   "outputs": [
    {
     "name": "stdout",
     "output_type": "stream",
     "text": [
      "sierin\n"
     ]
    }
   ],
   "source": [
    "for v,i in enumerate(cleaned_name_set):\n",
    "    if v == 4:\n",
    "        print(i)\n"
   ]
  },
  {
   "cell_type": "code",
   "execution_count": 117,
   "metadata": {},
   "outputs": [],
   "source": [
    "\n",
    "genderize = Genderize(\n",
    "    api_key='c8f478f94f119d5fd5cf96fc323584f3',\n",
    "    timeout=5.0)"
   ]
  },
  {
   "cell_type": "code",
   "execution_count": 100,
   "metadata": {},
   "outputs": [],
   "source": [
    "gender_result_first_name = genderize.get(list(cleaned_name_set)[:5])"
   ]
  },
  {
   "cell_type": "code",
   "execution_count": 101,
   "metadata": {},
   "outputs": [
    {
     "data": {
      "text/plain": [
       "[{'name': '', 'gender': None, 'probability': 0.0, 'count': 0},\n",
       " {'name': 'marchev', 'gender': None, 'probability': 0.0, 'count': 0},\n",
       " {'name': 'bonnemaire', 'gender': None, 'probability': 0.0, 'count': 0},\n",
       " {'name': 'philipps', 'gender': 'male', 'probability': 0.73, 'count': 30},\n",
       " {'name': 'flinkman', 'gender': None, 'probability': 0.0, 'count': 0}]"
      ]
     },
     "execution_count": 101,
     "metadata": {},
     "output_type": "execute_result"
    }
   ],
   "source": [
    "gender_result_first_name"
   ]
  },
  {
   "cell_type": "code",
   "execution_count": 102,
   "metadata": {},
   "outputs": [],
   "source": [
    "gender_result_first_name = genderize.get(list(cleaned_name_set))"
   ]
  },
  {
   "cell_type": "code",
   "execution_count": 105,
   "metadata": {},
   "outputs": [],
   "source": [
    "gender_result_first_name_df = pd.DataFrame(gender_result_first_name)"
   ]
  },
  {
   "cell_type": "code",
   "execution_count": 106,
   "metadata": {},
   "outputs": [],
   "source": [
    "gender_result_first_name_df.to_csv('/data02/MAG_PROCESSED_DATA/2019FILE/GENDERIZE_2019.csv',index_label=False)"
   ]
  },
  {
   "cell_type": "code",
   "execution_count": 119,
   "metadata": {},
   "outputs": [
    {
     "data": {
      "text/html": [
       "<div>\n",
       "<style scoped>\n",
       "    .dataframe tbody tr th:only-of-type {\n",
       "        vertical-align: middle;\n",
       "    }\n",
       "\n",
       "    .dataframe tbody tr th {\n",
       "        vertical-align: top;\n",
       "    }\n",
       "\n",
       "    .dataframe thead th {\n",
       "        text-align: right;\n",
       "    }\n",
       "</style>\n",
       "<table border=\"1\" class=\"dataframe\">\n",
       "  <thead>\n",
       "    <tr style=\"text-align: right;\">\n",
       "      <th></th>\n",
       "      <th>name</th>\n",
       "      <th>gender</th>\n",
       "      <th>probability</th>\n",
       "      <th>count</th>\n",
       "    </tr>\n",
       "  </thead>\n",
       "  <tbody>\n",
       "    <tr>\n",
       "      <td>0</td>\n",
       "      <td></td>\n",
       "      <td>None</td>\n",
       "      <td>0.0</td>\n",
       "      <td>0</td>\n",
       "    </tr>\n",
       "    <tr>\n",
       "      <td>1</td>\n",
       "      <td>marchev</td>\n",
       "      <td>None</td>\n",
       "      <td>0.0</td>\n",
       "      <td>0</td>\n",
       "    </tr>\n",
       "    <tr>\n",
       "      <td>2</td>\n",
       "      <td>bonnemaire</td>\n",
       "      <td>None</td>\n",
       "      <td>0.0</td>\n",
       "      <td>0</td>\n",
       "    </tr>\n",
       "    <tr>\n",
       "      <td>4</td>\n",
       "      <td>flinkman</td>\n",
       "      <td>None</td>\n",
       "      <td>0.0</td>\n",
       "      <td>0</td>\n",
       "    </tr>\n",
       "    <tr>\n",
       "      <td>5</td>\n",
       "      <td>oktriyanto</td>\n",
       "      <td>None</td>\n",
       "      <td>0.0</td>\n",
       "      <td>0</td>\n",
       "    </tr>\n",
       "    <tr>\n",
       "      <td>...</td>\n",
       "      <td>...</td>\n",
       "      <td>...</td>\n",
       "      <td>...</td>\n",
       "      <td>...</td>\n",
       "    </tr>\n",
       "    <tr>\n",
       "      <td>583322</td>\n",
       "      <td>гребнева</td>\n",
       "      <td>None</td>\n",
       "      <td>0.0</td>\n",
       "      <td>0</td>\n",
       "    </tr>\n",
       "    <tr>\n",
       "      <td>583323</td>\n",
       "      <td>로넨</td>\n",
       "      <td>None</td>\n",
       "      <td>0.0</td>\n",
       "      <td>0</td>\n",
       "    </tr>\n",
       "    <tr>\n",
       "      <td>583324</td>\n",
       "      <td>bulu'</td>\n",
       "      <td>None</td>\n",
       "      <td>0.0</td>\n",
       "      <td>0</td>\n",
       "    </tr>\n",
       "    <tr>\n",
       "      <td>583325</td>\n",
       "      <td>육재용</td>\n",
       "      <td>None</td>\n",
       "      <td>0.0</td>\n",
       "      <td>0</td>\n",
       "    </tr>\n",
       "    <tr>\n",
       "      <td>583327</td>\n",
       "      <td>pow-seng</td>\n",
       "      <td>None</td>\n",
       "      <td>0.0</td>\n",
       "      <td>0</td>\n",
       "    </tr>\n",
       "  </tbody>\n",
       "</table>\n",
       "<p>326105 rows × 4 columns</p>\n",
       "</div>"
      ],
      "text/plain": [
       "              name gender  probability  count\n",
       "0                    None          0.0      0\n",
       "1          marchev   None          0.0      0\n",
       "2       bonnemaire   None          0.0      0\n",
       "4         flinkman   None          0.0      0\n",
       "5       oktriyanto   None          0.0      0\n",
       "...            ...    ...          ...    ...\n",
       "583322    гребнева   None          0.0      0\n",
       "583323          로넨   None          0.0      0\n",
       "583324       bulu'   None          0.0      0\n",
       "583325         육재용   None          0.0      0\n",
       "583327    pow-seng   None          0.0      0\n",
       "\n",
       "[326105 rows x 4 columns]"
      ]
     },
     "execution_count": 119,
     "metadata": {},
     "output_type": "execute_result"
    }
   ],
   "source": [
    "gender_result_first_name_df[gender_result_first_name_df['probability']<0.6]"
   ]
  },
  {
   "cell_type": "code",
   "execution_count": 112,
   "metadata": {},
   "outputs": [
    {
     "data": {
      "text/html": [
       "<div>\n",
       "<style scoped>\n",
       "    .dataframe tbody tr th:only-of-type {\n",
       "        vertical-align: middle;\n",
       "    }\n",
       "\n",
       "    .dataframe tbody tr th {\n",
       "        vertical-align: top;\n",
       "    }\n",
       "\n",
       "    .dataframe thead th {\n",
       "        text-align: right;\n",
       "    }\n",
       "</style>\n",
       "<table border=\"1\" class=\"dataframe\">\n",
       "  <thead>\n",
       "    <tr style=\"text-align: right;\">\n",
       "      <th></th>\n",
       "      <th>name</th>\n",
       "      <th>gender</th>\n",
       "      <th>probability</th>\n",
       "      <th>count</th>\n",
       "    </tr>\n",
       "  </thead>\n",
       "  <tbody>\n",
       "    <tr>\n",
       "      <td>0</td>\n",
       "      <td></td>\n",
       "      <td>None</td>\n",
       "      <td>0.00</td>\n",
       "      <td>0</td>\n",
       "    </tr>\n",
       "    <tr>\n",
       "      <td>1</td>\n",
       "      <td>marchev</td>\n",
       "      <td>None</td>\n",
       "      <td>0.00</td>\n",
       "      <td>0</td>\n",
       "    </tr>\n",
       "    <tr>\n",
       "      <td>2</td>\n",
       "      <td>bonnemaire</td>\n",
       "      <td>None</td>\n",
       "      <td>0.00</td>\n",
       "      <td>0</td>\n",
       "    </tr>\n",
       "    <tr>\n",
       "      <td>3</td>\n",
       "      <td>philipps</td>\n",
       "      <td>male</td>\n",
       "      <td>0.73</td>\n",
       "      <td>30</td>\n",
       "    </tr>\n",
       "    <tr>\n",
       "      <td>4</td>\n",
       "      <td>flinkman</td>\n",
       "      <td>None</td>\n",
       "      <td>0.00</td>\n",
       "      <td>0</td>\n",
       "    </tr>\n",
       "    <tr>\n",
       "      <td>...</td>\n",
       "      <td>...</td>\n",
       "      <td>...</td>\n",
       "      <td>...</td>\n",
       "      <td>...</td>\n",
       "    </tr>\n",
       "    <tr>\n",
       "      <td>583326</td>\n",
       "      <td>wannipa</td>\n",
       "      <td>female</td>\n",
       "      <td>1.00</td>\n",
       "      <td>48</td>\n",
       "    </tr>\n",
       "    <tr>\n",
       "      <td>583327</td>\n",
       "      <td>pow-seng</td>\n",
       "      <td>None</td>\n",
       "      <td>0.00</td>\n",
       "      <td>0</td>\n",
       "    </tr>\n",
       "    <tr>\n",
       "      <td>583328</td>\n",
       "      <td>rosamia</td>\n",
       "      <td>female</td>\n",
       "      <td>0.82</td>\n",
       "      <td>11</td>\n",
       "    </tr>\n",
       "    <tr>\n",
       "      <td>583329</td>\n",
       "      <td>kanish</td>\n",
       "      <td>male</td>\n",
       "      <td>1.00</td>\n",
       "      <td>20</td>\n",
       "    </tr>\n",
       "    <tr>\n",
       "      <td>583330</td>\n",
       "      <td>paradee</td>\n",
       "      <td>female</td>\n",
       "      <td>0.97</td>\n",
       "      <td>38</td>\n",
       "    </tr>\n",
       "  </tbody>\n",
       "</table>\n",
       "<p>583331 rows × 4 columns</p>\n",
       "</div>"
      ],
      "text/plain": [
       "              name  gender  probability  count\n",
       "0                     None         0.00      0\n",
       "1          marchev    None         0.00      0\n",
       "2       bonnemaire    None         0.00      0\n",
       "3         philipps    male         0.73     30\n",
       "4         flinkman    None         0.00      0\n",
       "...            ...     ...          ...    ...\n",
       "583326     wannipa  female         1.00     48\n",
       "583327    pow-seng    None         0.00      0\n",
       "583328     rosamia  female         0.82     11\n",
       "583329      kanish    male         1.00     20\n",
       "583330     paradee  female         0.97     38\n",
       "\n",
       "[583331 rows x 4 columns]"
      ]
     },
     "execution_count": 112,
     "metadata": {},
     "output_type": "execute_result"
    }
   ],
   "source": [
    "gender_result_first_name_df"
   ]
  },
  {
   "cell_type": "code",
   "execution_count": 124,
   "metadata": {},
   "outputs": [],
   "source": [
    "gender_result_first_name_df = pd.read_csv('/data02/MAG_PROCESSED_DATA/2019FILE/GENDERIZE_2019.csv')"
   ]
  },
  {
   "cell_type": "code",
   "execution_count": 125,
   "metadata": {},
   "outputs": [],
   "source": [
    "gender_result_first_name_df= gender_result_first_name_df[gender_result_first_name_df['name'].notna()]"
   ]
  },
  {
   "cell_type": "code",
   "execution_count": 126,
   "metadata": {},
   "outputs": [
    {
     "data": {
      "text/html": [
       "<div>\n",
       "<style scoped>\n",
       "    .dataframe tbody tr th:only-of-type {\n",
       "        vertical-align: middle;\n",
       "    }\n",
       "\n",
       "    .dataframe tbody tr th {\n",
       "        vertical-align: top;\n",
       "    }\n",
       "\n",
       "    .dataframe thead th {\n",
       "        text-align: right;\n",
       "    }\n",
       "</style>\n",
       "<table border=\"1\" class=\"dataframe\">\n",
       "  <thead>\n",
       "    <tr style=\"text-align: right;\">\n",
       "      <th></th>\n",
       "      <th>name</th>\n",
       "      <th>gender</th>\n",
       "      <th>probability</th>\n",
       "      <th>count</th>\n",
       "    </tr>\n",
       "  </thead>\n",
       "  <tbody>\n",
       "    <tr>\n",
       "      <td>1</td>\n",
       "      <td>marchev</td>\n",
       "      <td>NaN</td>\n",
       "      <td>0.00</td>\n",
       "      <td>0</td>\n",
       "    </tr>\n",
       "    <tr>\n",
       "      <td>2</td>\n",
       "      <td>bonnemaire</td>\n",
       "      <td>NaN</td>\n",
       "      <td>0.00</td>\n",
       "      <td>0</td>\n",
       "    </tr>\n",
       "    <tr>\n",
       "      <td>3</td>\n",
       "      <td>philipps</td>\n",
       "      <td>male</td>\n",
       "      <td>0.73</td>\n",
       "      <td>30</td>\n",
       "    </tr>\n",
       "    <tr>\n",
       "      <td>4</td>\n",
       "      <td>flinkman</td>\n",
       "      <td>NaN</td>\n",
       "      <td>0.00</td>\n",
       "      <td>0</td>\n",
       "    </tr>\n",
       "    <tr>\n",
       "      <td>5</td>\n",
       "      <td>oktriyanto</td>\n",
       "      <td>NaN</td>\n",
       "      <td>0.00</td>\n",
       "      <td>0</td>\n",
       "    </tr>\n",
       "    <tr>\n",
       "      <td>...</td>\n",
       "      <td>...</td>\n",
       "      <td>...</td>\n",
       "      <td>...</td>\n",
       "      <td>...</td>\n",
       "    </tr>\n",
       "    <tr>\n",
       "      <td>583326</td>\n",
       "      <td>wannipa</td>\n",
       "      <td>female</td>\n",
       "      <td>1.00</td>\n",
       "      <td>48</td>\n",
       "    </tr>\n",
       "    <tr>\n",
       "      <td>583327</td>\n",
       "      <td>pow-seng</td>\n",
       "      <td>NaN</td>\n",
       "      <td>0.00</td>\n",
       "      <td>0</td>\n",
       "    </tr>\n",
       "    <tr>\n",
       "      <td>583328</td>\n",
       "      <td>rosamia</td>\n",
       "      <td>female</td>\n",
       "      <td>0.82</td>\n",
       "      <td>11</td>\n",
       "    </tr>\n",
       "    <tr>\n",
       "      <td>583329</td>\n",
       "      <td>kanish</td>\n",
       "      <td>male</td>\n",
       "      <td>1.00</td>\n",
       "      <td>20</td>\n",
       "    </tr>\n",
       "    <tr>\n",
       "      <td>583330</td>\n",
       "      <td>paradee</td>\n",
       "      <td>female</td>\n",
       "      <td>0.97</td>\n",
       "      <td>38</td>\n",
       "    </tr>\n",
       "  </tbody>\n",
       "</table>\n",
       "<p>583328 rows × 4 columns</p>\n",
       "</div>"
      ],
      "text/plain": [
       "              name  gender  probability  count\n",
       "1          marchev     NaN         0.00      0\n",
       "2       bonnemaire     NaN         0.00      0\n",
       "3         philipps    male         0.73     30\n",
       "4         flinkman     NaN         0.00      0\n",
       "5       oktriyanto     NaN         0.00      0\n",
       "...            ...     ...          ...    ...\n",
       "583326     wannipa  female         1.00     48\n",
       "583327    pow-seng     NaN         0.00      0\n",
       "583328     rosamia  female         0.82     11\n",
       "583329      kanish    male         1.00     20\n",
       "583330     paradee  female         0.97     38\n",
       "\n",
       "[583328 rows x 4 columns]"
      ]
     },
     "execution_count": 126,
     "metadata": {},
     "output_type": "execute_result"
    }
   ],
   "source": [
    "gender_result_first_name_df"
   ]
  },
  {
   "cell_type": "code",
   "execution_count": 127,
   "metadata": {},
   "outputs": [],
   "source": [
    "def get_eng_not(name):\n",
    "    name = re.sub(r\"[^a-zA-Z0-9]\",\"\",name)\n",
    "\n",
    "    if len(name)==0:\n",
    "        return False\n",
    "    else:\n",
    "        return True"
   ]
  },
  {
   "cell_type": "code",
   "execution_count": 128,
   "metadata": {},
   "outputs": [],
   "source": [
    "gender_result_first_name_df = gender_result_first_name_df[gender_result_first_name_df['name'].apply(lambda x: get_eng_not(x))]"
   ]
  },
  {
   "cell_type": "code",
   "execution_count": 130,
   "metadata": {},
   "outputs": [
    {
     "data": {
      "text/html": [
       "<div>\n",
       "<style scoped>\n",
       "    .dataframe tbody tr th:only-of-type {\n",
       "        vertical-align: middle;\n",
       "    }\n",
       "\n",
       "    .dataframe tbody tr th {\n",
       "        vertical-align: top;\n",
       "    }\n",
       "\n",
       "    .dataframe thead th {\n",
       "        text-align: right;\n",
       "    }\n",
       "</style>\n",
       "<table border=\"1\" class=\"dataframe\">\n",
       "  <thead>\n",
       "    <tr style=\"text-align: right;\">\n",
       "      <th></th>\n",
       "      <th>name</th>\n",
       "      <th>gender</th>\n",
       "      <th>probability</th>\n",
       "      <th>count</th>\n",
       "    </tr>\n",
       "  </thead>\n",
       "  <tbody>\n",
       "    <tr>\n",
       "      <td>1</td>\n",
       "      <td>marchev</td>\n",
       "      <td>NaN</td>\n",
       "      <td>0.00</td>\n",
       "      <td>0</td>\n",
       "    </tr>\n",
       "    <tr>\n",
       "      <td>2</td>\n",
       "      <td>bonnemaire</td>\n",
       "      <td>NaN</td>\n",
       "      <td>0.00</td>\n",
       "      <td>0</td>\n",
       "    </tr>\n",
       "    <tr>\n",
       "      <td>3</td>\n",
       "      <td>philipps</td>\n",
       "      <td>male</td>\n",
       "      <td>0.73</td>\n",
       "      <td>30</td>\n",
       "    </tr>\n",
       "    <tr>\n",
       "      <td>4</td>\n",
       "      <td>flinkman</td>\n",
       "      <td>NaN</td>\n",
       "      <td>0.00</td>\n",
       "      <td>0</td>\n",
       "    </tr>\n",
       "    <tr>\n",
       "      <td>5</td>\n",
       "      <td>oktriyanto</td>\n",
       "      <td>NaN</td>\n",
       "      <td>0.00</td>\n",
       "      <td>0</td>\n",
       "    </tr>\n",
       "    <tr>\n",
       "      <td>...</td>\n",
       "      <td>...</td>\n",
       "      <td>...</td>\n",
       "      <td>...</td>\n",
       "      <td>...</td>\n",
       "    </tr>\n",
       "    <tr>\n",
       "      <td>583326</td>\n",
       "      <td>wannipa</td>\n",
       "      <td>female</td>\n",
       "      <td>1.00</td>\n",
       "      <td>48</td>\n",
       "    </tr>\n",
       "    <tr>\n",
       "      <td>583327</td>\n",
       "      <td>pow-seng</td>\n",
       "      <td>NaN</td>\n",
       "      <td>0.00</td>\n",
       "      <td>0</td>\n",
       "    </tr>\n",
       "    <tr>\n",
       "      <td>583328</td>\n",
       "      <td>rosamia</td>\n",
       "      <td>female</td>\n",
       "      <td>0.82</td>\n",
       "      <td>11</td>\n",
       "    </tr>\n",
       "    <tr>\n",
       "      <td>583329</td>\n",
       "      <td>kanish</td>\n",
       "      <td>male</td>\n",
       "      <td>1.00</td>\n",
       "      <td>20</td>\n",
       "    </tr>\n",
       "    <tr>\n",
       "      <td>583330</td>\n",
       "      <td>paradee</td>\n",
       "      <td>female</td>\n",
       "      <td>0.97</td>\n",
       "      <td>38</td>\n",
       "    </tr>\n",
       "  </tbody>\n",
       "</table>\n",
       "<p>525358 rows × 4 columns</p>\n",
       "</div>"
      ],
      "text/plain": [
       "              name  gender  probability  count\n",
       "1          marchev     NaN         0.00      0\n",
       "2       bonnemaire     NaN         0.00      0\n",
       "3         philipps    male         0.73     30\n",
       "4         flinkman     NaN         0.00      0\n",
       "5       oktriyanto     NaN         0.00      0\n",
       "...            ...     ...          ...    ...\n",
       "583326     wannipa  female         1.00     48\n",
       "583327    pow-seng     NaN         0.00      0\n",
       "583328     rosamia  female         0.82     11\n",
       "583329      kanish    male         1.00     20\n",
       "583330     paradee  female         0.97     38\n",
       "\n",
       "[525358 rows x 4 columns]"
      ]
     },
     "execution_count": 130,
     "metadata": {},
     "output_type": "execute_result"
    }
   ],
   "source": [
    "gender_result_first_name_df"
   ]
  },
  {
   "cell_type": "code",
   "execution_count": 137,
   "metadata": {},
   "outputs": [],
   "source": [
    "def get_strange_character(name):\n",
    "    if (',' in name) or ('(' in name) or (')' in name):\n",
    "        return True\n",
    "    else:\n",
    "        return False\n",
    "        #name = re.sub(\"\\,|\\(|\\)\",\"\",name)"
   ]
  },
  {
   "cell_type": "code",
   "execution_count": 106,
   "metadata": {},
   "outputs": [],
   "source": [
    "def get_real_name(name):\n",
    "    if (',' in name):\n",
    "        name = re.sub(\",\",\"\",name)\n",
    "\n",
    "    if ('(' in name):\n",
    "        name = name.split('(')[1]\n",
    "\n",
    "    if (')' in name):\n",
    "        name = name.split(')')[0]\n",
    "    \n",
    "    \n",
    "    if name in gender_result_first_name_df['name']:\n",
    "        print(name)\n",
    "        return '0'\n",
    "    else:\n",
    "        return name"
   ]
  },
  {
   "cell_type": "code",
   "execution_count": 107,
   "metadata": {},
   "outputs": [],
   "source": [
    "gender_result_first_name_df_strange_name_sort = gender_result_first_name_df[gender_result_first_name_df['name'].apply(lambda x: get_strange_character(x))]['name'].apply(lambda x: get_real_name(x))"
   ]
  },
  {
   "cell_type": "code",
   "execution_count": 108,
   "metadata": {},
   "outputs": [
    {
     "data": {
      "text/plain": [
       "Series([], Name: name, dtype: object)"
      ]
     },
     "execution_count": 108,
     "metadata": {},
     "output_type": "execute_result"
    }
   ],
   "source": [
    "gender_result_first_name_df_strange_name_sort[gender_result_first_name_df_strange_name_sort =='0']"
   ]
  },
  {
   "cell_type": "code",
   "execution_count": 113,
   "metadata": {},
   "outputs": [
    {
     "data": {
      "text/plain": [
       "111          tumiran\n",
       "128         jeong-uk\n",
       "214          elsbeth\n",
       "220       byoungchae\n",
       "293             sang\n",
       "             ...    \n",
       "582492      min-seub\n",
       "582512    seon-jeong\n",
       "582612       hardman\n",
       "582678         piard\n",
       "582893    klingebiel\n",
       "Name: name, Length: 6297, dtype: object"
      ]
     },
     "execution_count": 113,
     "metadata": {},
     "output_type": "execute_result"
    }
   ],
   "source": [
    "gender_result_first_name_df_strange_name_sort"
   ]
  },
  {
   "cell_type": "code",
   "execution_count": 131,
   "metadata": {},
   "outputs": [],
   "source": [
    "gender_result_first_name_df = gender_result_first_name_df[gender_result_first_name_df['name'].apply(lambda x: not get_strange_character(x))]"
   ]
  },
  {
   "cell_type": "code",
   "execution_count": 118,
   "metadata": {},
   "outputs": [],
   "source": [
    "gender_result_first_strange_name = genderize.get(list(gender_result_first_name_df_strange_name_sort))"
   ]
  },
  {
   "cell_type": "code",
   "execution_count": 119,
   "metadata": {},
   "outputs": [],
   "source": [
    "gender_result_first_strange_name_df = pd.DataFrame(gender_result_first_strange_name)"
   ]
  },
  {
   "cell_type": "code",
   "execution_count": 133,
   "metadata": {},
   "outputs": [],
   "source": [
    "gender_result_first_name_df = pd.concat([gender_result_first_strange_name_df,gender_result_first_name_df])"
   ]
  },
  {
   "cell_type": "code",
   "execution_count": 138,
   "metadata": {},
   "outputs": [],
   "source": [
    "def get_strange_character_2(name):\n",
    "    if (\"'\" in name):\n",
    "        return True\n",
    "    else:\n",
    "        return False\n",
    "        #name = re.sub(\"\\,|\\(|\\)\",\"\",name)"
   ]
  },
  {
   "cell_type": "code",
   "execution_count": 139,
   "metadata": {},
   "outputs": [],
   "source": [
    "def get_real_name_2(name):\n",
    "    if (\"'\" in name):\n",
    "        name = re.sub(\"'\",\"\",name)\n",
    "    \n",
    "    if name in gender_result_first_name_df['name']:\n",
    "        print(name)\n",
    "        return '0'\n",
    "    else:\n",
    "        return name"
   ]
  },
  {
   "cell_type": "code",
   "execution_count": 142,
   "metadata": {},
   "outputs": [],
   "source": [
    "gender_result_first_name_df_strange_name_sort = gender_result_first_name_df[gender_result_first_name_df['name'].apply(lambda x: get_strange_character_2(x))]['name'].apply(lambda x: get_real_name_2(x))\n",
    "\n",
    "\n"
   ]
  },
  {
   "cell_type": "code",
   "execution_count": 143,
   "metadata": {},
   "outputs": [
    {
     "data": {
      "text/plain": [
       "Series([], Name: name, dtype: object)"
      ]
     },
     "execution_count": 143,
     "metadata": {},
     "output_type": "execute_result"
    }
   ],
   "source": [
    "gender_result_first_name_df_strange_name_sort[gender_result_first_name_df_strange_name_sort =='0']"
   ]
  },
  {
   "cell_type": "code",
   "execution_count": 144,
   "metadata": {},
   "outputs": [],
   "source": [
    "gender_result_first_name_df = gender_result_first_name_df[gender_result_first_name_df['name'].apply(lambda x: not get_strange_character_2(x))]"
   ]
  },
  {
   "cell_type": "code",
   "execution_count": 145,
   "metadata": {},
   "outputs": [
    {
     "data": {
      "text/html": [
       "<div>\n",
       "<style scoped>\n",
       "    .dataframe tbody tr th:only-of-type {\n",
       "        vertical-align: middle;\n",
       "    }\n",
       "\n",
       "    .dataframe tbody tr th {\n",
       "        vertical-align: top;\n",
       "    }\n",
       "\n",
       "    .dataframe thead th {\n",
       "        text-align: right;\n",
       "    }\n",
       "</style>\n",
       "<table border=\"1\" class=\"dataframe\">\n",
       "  <thead>\n",
       "    <tr style=\"text-align: right;\">\n",
       "      <th></th>\n",
       "      <th>name</th>\n",
       "      <th>gender</th>\n",
       "      <th>probability</th>\n",
       "      <th>count</th>\n",
       "    </tr>\n",
       "  </thead>\n",
       "  <tbody>\n",
       "    <tr>\n",
       "      <td>0</td>\n",
       "      <td>tumiran</td>\n",
       "      <td>male</td>\n",
       "      <td>1.00</td>\n",
       "      <td>6</td>\n",
       "    </tr>\n",
       "    <tr>\n",
       "      <td>1</td>\n",
       "      <td>jeong-uk</td>\n",
       "      <td>male</td>\n",
       "      <td>1.00</td>\n",
       "      <td>4</td>\n",
       "    </tr>\n",
       "    <tr>\n",
       "      <td>2</td>\n",
       "      <td>elsbeth</td>\n",
       "      <td>female</td>\n",
       "      <td>0.98</td>\n",
       "      <td>240</td>\n",
       "    </tr>\n",
       "    <tr>\n",
       "      <td>3</td>\n",
       "      <td>byoungchae</td>\n",
       "      <td>male</td>\n",
       "      <td>1.00</td>\n",
       "      <td>1</td>\n",
       "    </tr>\n",
       "    <tr>\n",
       "      <td>4</td>\n",
       "      <td>sang</td>\n",
       "      <td>male</td>\n",
       "      <td>0.88</td>\n",
       "      <td>4007</td>\n",
       "    </tr>\n",
       "    <tr>\n",
       "      <td>...</td>\n",
       "      <td>...</td>\n",
       "      <td>...</td>\n",
       "      <td>...</td>\n",
       "      <td>...</td>\n",
       "    </tr>\n",
       "    <tr>\n",
       "      <td>583326</td>\n",
       "      <td>wannipa</td>\n",
       "      <td>female</td>\n",
       "      <td>1.00</td>\n",
       "      <td>48</td>\n",
       "    </tr>\n",
       "    <tr>\n",
       "      <td>583327</td>\n",
       "      <td>pow-seng</td>\n",
       "      <td>NaN</td>\n",
       "      <td>0.00</td>\n",
       "      <td>0</td>\n",
       "    </tr>\n",
       "    <tr>\n",
       "      <td>583328</td>\n",
       "      <td>rosamia</td>\n",
       "      <td>female</td>\n",
       "      <td>0.82</td>\n",
       "      <td>11</td>\n",
       "    </tr>\n",
       "    <tr>\n",
       "      <td>583329</td>\n",
       "      <td>kanish</td>\n",
       "      <td>male</td>\n",
       "      <td>1.00</td>\n",
       "      <td>20</td>\n",
       "    </tr>\n",
       "    <tr>\n",
       "      <td>583330</td>\n",
       "      <td>paradee</td>\n",
       "      <td>female</td>\n",
       "      <td>0.97</td>\n",
       "      <td>38</td>\n",
       "    </tr>\n",
       "  </tbody>\n",
       "</table>\n",
       "<p>524065 rows × 4 columns</p>\n",
       "</div>"
      ],
      "text/plain": [
       "              name  gender  probability  count\n",
       "0          tumiran    male         1.00      6\n",
       "1         jeong-uk    male         1.00      4\n",
       "2          elsbeth  female         0.98    240\n",
       "3       byoungchae    male         1.00      1\n",
       "4             sang    male         0.88   4007\n",
       "...            ...     ...          ...    ...\n",
       "583326     wannipa  female         1.00     48\n",
       "583327    pow-seng     NaN         0.00      0\n",
       "583328     rosamia  female         0.82     11\n",
       "583329      kanish    male         1.00     20\n",
       "583330     paradee  female         0.97     38\n",
       "\n",
       "[524065 rows x 4 columns]"
      ]
     },
     "execution_count": 145,
     "metadata": {},
     "output_type": "execute_result"
    }
   ],
   "source": [
    "gender_result_first_name_df"
   ]
  },
  {
   "cell_type": "code",
   "execution_count": 147,
   "metadata": {},
   "outputs": [],
   "source": [
    "gender_result_first_strange_name_comma = genderize.get(list(gender_result_first_name_df_strange_name_sort))"
   ]
  },
  {
   "cell_type": "code",
   "execution_count": 148,
   "metadata": {},
   "outputs": [],
   "source": [
    "gender_result_first_strange_name_comma_df = pd.DataFrame(gender_result_first_strange_name_comma)"
   ]
  },
  {
   "cell_type": "code",
   "execution_count": 150,
   "metadata": {},
   "outputs": [
    {
     "data": {
      "text/html": [
       "<div>\n",
       "<style scoped>\n",
       "    .dataframe tbody tr th:only-of-type {\n",
       "        vertical-align: middle;\n",
       "    }\n",
       "\n",
       "    .dataframe tbody tr th {\n",
       "        vertical-align: top;\n",
       "    }\n",
       "\n",
       "    .dataframe thead th {\n",
       "        text-align: right;\n",
       "    }\n",
       "</style>\n",
       "<table border=\"1\" class=\"dataframe\">\n",
       "  <thead>\n",
       "    <tr style=\"text-align: right;\">\n",
       "      <th></th>\n",
       "      <th>name</th>\n",
       "      <th>gender</th>\n",
       "      <th>probability</th>\n",
       "      <th>count</th>\n",
       "    </tr>\n",
       "  </thead>\n",
       "  <tbody>\n",
       "    <tr>\n",
       "      <td>0</td>\n",
       "      <td>dagostino</td>\n",
       "      <td>male</td>\n",
       "      <td>0.87</td>\n",
       "      <td>23</td>\n",
       "    </tr>\n",
       "    <tr>\n",
       "      <td>1</td>\n",
       "      <td>khoirurrojiin</td>\n",
       "      <td>None</td>\n",
       "      <td>0.00</td>\n",
       "      <td>0</td>\n",
       "    </tr>\n",
       "    <tr>\n",
       "      <td>2</td>\n",
       "      <td>maruf</td>\n",
       "      <td>male</td>\n",
       "      <td>0.97</td>\n",
       "      <td>478</td>\n",
       "    </tr>\n",
       "    <tr>\n",
       "      <td>3</td>\n",
       "      <td>alghani</td>\n",
       "      <td>male</td>\n",
       "      <td>1.00</td>\n",
       "      <td>6</td>\n",
       "    </tr>\n",
       "    <tr>\n",
       "      <td>4</td>\n",
       "      <td>rifai</td>\n",
       "      <td>male</td>\n",
       "      <td>0.90</td>\n",
       "      <td>115</td>\n",
       "    </tr>\n",
       "    <tr>\n",
       "      <td>...</td>\n",
       "      <td>...</td>\n",
       "      <td>...</td>\n",
       "      <td>...</td>\n",
       "      <td>...</td>\n",
       "    </tr>\n",
       "    <tr>\n",
       "      <td>1288</td>\n",
       "      <td>syaroni</td>\n",
       "      <td>male</td>\n",
       "      <td>1.00</td>\n",
       "      <td>1</td>\n",
       "    </tr>\n",
       "    <tr>\n",
       "      <td>1289</td>\n",
       "      <td>jaman</td>\n",
       "      <td>male</td>\n",
       "      <td>0.93</td>\n",
       "      <td>106</td>\n",
       "    </tr>\n",
       "    <tr>\n",
       "      <td>1290</td>\n",
       "      <td>eldar</td>\n",
       "      <td>male</td>\n",
       "      <td>0.99</td>\n",
       "      <td>1092</td>\n",
       "    </tr>\n",
       "    <tr>\n",
       "      <td>1291</td>\n",
       "      <td>xianglin</td>\n",
       "      <td>male</td>\n",
       "      <td>0.88</td>\n",
       "      <td>8</td>\n",
       "    </tr>\n",
       "    <tr>\n",
       "      <td>1292</td>\n",
       "      <td>bulu</td>\n",
       "      <td>male</td>\n",
       "      <td>0.89</td>\n",
       "      <td>72</td>\n",
       "    </tr>\n",
       "  </tbody>\n",
       "</table>\n",
       "<p>1293 rows × 4 columns</p>\n",
       "</div>"
      ],
      "text/plain": [
       "               name gender  probability  count\n",
       "0         dagostino   male         0.87     23\n",
       "1     khoirurrojiin   None         0.00      0\n",
       "2             maruf   male         0.97    478\n",
       "3           alghani   male         1.00      6\n",
       "4             rifai   male         0.90    115\n",
       "...             ...    ...          ...    ...\n",
       "1288        syaroni   male         1.00      1\n",
       "1289          jaman   male         0.93    106\n",
       "1290          eldar   male         0.99   1092\n",
       "1291       xianglin   male         0.88      8\n",
       "1292           bulu   male         0.89     72\n",
       "\n",
       "[1293 rows x 4 columns]"
      ]
     },
     "execution_count": 150,
     "metadata": {},
     "output_type": "execute_result"
    }
   ],
   "source": [
    "gender_result_first_strange_name_comma_df"
   ]
  },
  {
   "cell_type": "code",
   "execution_count": 151,
   "metadata": {},
   "outputs": [],
   "source": [
    "gender_result_first_name_df = pd.concat([gender_result_first_strange_name_comma_df,gender_result_first_name_df])"
   ]
  },
  {
   "cell_type": "code",
   "execution_count": 153,
   "metadata": {},
   "outputs": [
    {
     "data": {
      "text/html": [
       "<div>\n",
       "<style scoped>\n",
       "    .dataframe tbody tr th:only-of-type {\n",
       "        vertical-align: middle;\n",
       "    }\n",
       "\n",
       "    .dataframe tbody tr th {\n",
       "        vertical-align: top;\n",
       "    }\n",
       "\n",
       "    .dataframe thead th {\n",
       "        text-align: right;\n",
       "    }\n",
       "</style>\n",
       "<table border=\"1\" class=\"dataframe\">\n",
       "  <thead>\n",
       "    <tr style=\"text-align: right;\">\n",
       "      <th></th>\n",
       "      <th>name</th>\n",
       "      <th>gender</th>\n",
       "      <th>probability</th>\n",
       "      <th>count</th>\n",
       "    </tr>\n",
       "  </thead>\n",
       "  <tbody>\n",
       "    <tr>\n",
       "      <td>1</td>\n",
       "      <td>khoirurrojiin</td>\n",
       "      <td>None</td>\n",
       "      <td>0.00</td>\n",
       "      <td>0</td>\n",
       "    </tr>\n",
       "    <tr>\n",
       "      <td>8</td>\n",
       "      <td>lesperance</td>\n",
       "      <td>female</td>\n",
       "      <td>0.57</td>\n",
       "      <td>7</td>\n",
       "    </tr>\n",
       "    <tr>\n",
       "      <td>9</td>\n",
       "      <td>berte</td>\n",
       "      <td>male</td>\n",
       "      <td>0.54</td>\n",
       "      <td>159</td>\n",
       "    </tr>\n",
       "    <tr>\n",
       "      <td>12</td>\n",
       "      <td>dementev</td>\n",
       "      <td>None</td>\n",
       "      <td>0.00</td>\n",
       "      <td>0</td>\n",
       "    </tr>\n",
       "    <tr>\n",
       "      <td>14</td>\n",
       "      <td>shening</td>\n",
       "      <td>None</td>\n",
       "      <td>0.00</td>\n",
       "      <td>0</td>\n",
       "    </tr>\n",
       "    <tr>\n",
       "      <td>...</td>\n",
       "      <td>...</td>\n",
       "      <td>...</td>\n",
       "      <td>...</td>\n",
       "      <td>...</td>\n",
       "    </tr>\n",
       "    <tr>\n",
       "      <td>583316</td>\n",
       "      <td>zola</td>\n",
       "      <td>male</td>\n",
       "      <td>0.55</td>\n",
       "      <td>1235</td>\n",
       "    </tr>\n",
       "    <tr>\n",
       "      <td>583317</td>\n",
       "      <td>seemüller</td>\n",
       "      <td>NaN</td>\n",
       "      <td>0.00</td>\n",
       "      <td>0</td>\n",
       "    </tr>\n",
       "    <tr>\n",
       "      <td>583318</td>\n",
       "      <td>vantugas</td>\n",
       "      <td>NaN</td>\n",
       "      <td>0.00</td>\n",
       "      <td>0</td>\n",
       "    </tr>\n",
       "    <tr>\n",
       "      <td>583320</td>\n",
       "      <td>dulepov</td>\n",
       "      <td>NaN</td>\n",
       "      <td>0.00</td>\n",
       "      <td>0</td>\n",
       "    </tr>\n",
       "    <tr>\n",
       "      <td>583327</td>\n",
       "      <td>pow-seng</td>\n",
       "      <td>NaN</td>\n",
       "      <td>0.00</td>\n",
       "      <td>0</td>\n",
       "    </tr>\n",
       "  </tbody>\n",
       "</table>\n",
       "<p>288519 rows × 4 columns</p>\n",
       "</div>"
      ],
      "text/plain": [
       "                 name  gender  probability  count\n",
       "1       khoirurrojiin    None         0.00      0\n",
       "8          lesperance  female         0.57      7\n",
       "9               berte    male         0.54    159\n",
       "12           dementev    None         0.00      0\n",
       "14            shening    None         0.00      0\n",
       "...               ...     ...          ...    ...\n",
       "583316           zola    male         0.55   1235\n",
       "583317      seemüller     NaN         0.00      0\n",
       "583318       vantugas     NaN         0.00      0\n",
       "583320        dulepov     NaN         0.00      0\n",
       "583327       pow-seng     NaN         0.00      0\n",
       "\n",
       "[288519 rows x 4 columns]"
      ]
     },
     "execution_count": 153,
     "metadata": {},
     "output_type": "execute_result"
    }
   ],
   "source": [
    "gender_result_first_name_df[gender_result_first_name_df['probability']<0.7]"
   ]
  },
  {
   "cell_type": "code",
   "execution_count": 170,
   "metadata": {},
   "outputs": [],
   "source": [
    "gender_result_first_name_df.to_csv('/data02/MAG_PROCESSED_DATA/2019FILE/GENDERIZE_2019.csv',index_label =False)"
   ]
  },
  {
   "cell_type": "code",
   "execution_count": 172,
   "metadata": {},
   "outputs": [],
   "source": [
    "gender_result_first_name_df_csv = pd.read_csv('/data02/MAG_PROCESSED_DATA/2019FILE/GENDERIZE_2019.csv')"
   ]
  },
  {
   "cell_type": "code",
   "execution_count": 176,
   "metadata": {},
   "outputs": [
    {
     "data": {
      "text/html": [
       "<div>\n",
       "<style scoped>\n",
       "    .dataframe tbody tr th:only-of-type {\n",
       "        vertical-align: middle;\n",
       "    }\n",
       "\n",
       "    .dataframe tbody tr th {\n",
       "        vertical-align: top;\n",
       "    }\n",
       "\n",
       "    .dataframe thead th {\n",
       "        text-align: right;\n",
       "    }\n",
       "</style>\n",
       "<table border=\"1\" class=\"dataframe\">\n",
       "  <thead>\n",
       "    <tr style=\"text-align: right;\">\n",
       "      <th></th>\n",
       "      <th>name</th>\n",
       "      <th>gender</th>\n",
       "      <th>probability</th>\n",
       "      <th>count</th>\n",
       "    </tr>\n",
       "  </thead>\n",
       "  <tbody>\n",
       "    <tr>\n",
       "      <td>3732</td>\n",
       "      <td>NaN</td>\n",
       "      <td>NaN</td>\n",
       "      <td>0.0</td>\n",
       "      <td>0</td>\n",
       "    </tr>\n",
       "    <tr>\n",
       "      <td>5378</td>\n",
       "      <td>NaN</td>\n",
       "      <td>NaN</td>\n",
       "      <td>0.0</td>\n",
       "      <td>0</td>\n",
       "    </tr>\n",
       "    <tr>\n",
       "      <td>5511</td>\n",
       "      <td>NaN</td>\n",
       "      <td>NaN</td>\n",
       "      <td>0.0</td>\n",
       "      <td>0</td>\n",
       "    </tr>\n",
       "  </tbody>\n",
       "</table>\n",
       "</div>"
      ],
      "text/plain": [
       "     name gender  probability  count\n",
       "3732  NaN    NaN          0.0      0\n",
       "5378  NaN    NaN          0.0      0\n",
       "5511  NaN    NaN          0.0      0"
      ]
     },
     "execution_count": 176,
     "metadata": {},
     "output_type": "execute_result"
    }
   ],
   "source": [
    "gender_result_first_name_df_csv[gender_result_first_name_df_csv['name'].isna()]"
   ]
  },
  {
   "cell_type": "code",
   "execution_count": 189,
   "metadata": {},
   "outputs": [
    {
     "data": {
      "text/html": [
       "<div>\n",
       "<style scoped>\n",
       "    .dataframe tbody tr th:only-of-type {\n",
       "        vertical-align: middle;\n",
       "    }\n",
       "\n",
       "    .dataframe tbody tr th {\n",
       "        vertical-align: top;\n",
       "    }\n",
       "\n",
       "    .dataframe thead th {\n",
       "        text-align: right;\n",
       "    }\n",
       "</style>\n",
       "<table border=\"1\" class=\"dataframe\">\n",
       "  <thead>\n",
       "    <tr style=\"text-align: right;\">\n",
       "      <th></th>\n",
       "      <th>name</th>\n",
       "      <th>gender</th>\n",
       "      <th>probability</th>\n",
       "      <th>count</th>\n",
       "    </tr>\n",
       "  </thead>\n",
       "  <tbody>\n",
       "    <tr>\n",
       "      <td>0</td>\n",
       "      <td>dagostino</td>\n",
       "      <td>male</td>\n",
       "      <td>0.87</td>\n",
       "      <td>23</td>\n",
       "    </tr>\n",
       "    <tr>\n",
       "      <td>1</td>\n",
       "      <td>khoirurrojiin</td>\n",
       "      <td>NaN</td>\n",
       "      <td>0.00</td>\n",
       "      <td>0</td>\n",
       "    </tr>\n",
       "    <tr>\n",
       "      <td>2</td>\n",
       "      <td>maruf</td>\n",
       "      <td>male</td>\n",
       "      <td>0.97</td>\n",
       "      <td>478</td>\n",
       "    </tr>\n",
       "    <tr>\n",
       "      <td>3</td>\n",
       "      <td>alghani</td>\n",
       "      <td>male</td>\n",
       "      <td>1.00</td>\n",
       "      <td>6</td>\n",
       "    </tr>\n",
       "    <tr>\n",
       "      <td>4</td>\n",
       "      <td>rifai</td>\n",
       "      <td>male</td>\n",
       "      <td>0.90</td>\n",
       "      <td>115</td>\n",
       "    </tr>\n",
       "    <tr>\n",
       "      <td>...</td>\n",
       "      <td>...</td>\n",
       "      <td>...</td>\n",
       "      <td>...</td>\n",
       "      <td>...</td>\n",
       "    </tr>\n",
       "    <tr>\n",
       "      <td>525353</td>\n",
       "      <td>wannipa</td>\n",
       "      <td>female</td>\n",
       "      <td>1.00</td>\n",
       "      <td>48</td>\n",
       "    </tr>\n",
       "    <tr>\n",
       "      <td>525354</td>\n",
       "      <td>pow-seng</td>\n",
       "      <td>NaN</td>\n",
       "      <td>0.00</td>\n",
       "      <td>0</td>\n",
       "    </tr>\n",
       "    <tr>\n",
       "      <td>525355</td>\n",
       "      <td>rosamia</td>\n",
       "      <td>female</td>\n",
       "      <td>0.82</td>\n",
       "      <td>11</td>\n",
       "    </tr>\n",
       "    <tr>\n",
       "      <td>525356</td>\n",
       "      <td>kanish</td>\n",
       "      <td>male</td>\n",
       "      <td>1.00</td>\n",
       "      <td>20</td>\n",
       "    </tr>\n",
       "    <tr>\n",
       "      <td>525357</td>\n",
       "      <td>paradee</td>\n",
       "      <td>female</td>\n",
       "      <td>0.97</td>\n",
       "      <td>38</td>\n",
       "    </tr>\n",
       "  </tbody>\n",
       "</table>\n",
       "<p>525358 rows × 4 columns</p>\n",
       "</div>"
      ],
      "text/plain": [
       "                 name  gender  probability  count\n",
       "0           dagostino    male         0.87     23\n",
       "1       khoirurrojiin     NaN         0.00      0\n",
       "2               maruf    male         0.97    478\n",
       "3             alghani    male         1.00      6\n",
       "4               rifai    male         0.90    115\n",
       "...               ...     ...          ...    ...\n",
       "525353        wannipa  female         1.00     48\n",
       "525354       pow-seng     NaN         0.00      0\n",
       "525355        rosamia  female         0.82     11\n",
       "525356         kanish    male         1.00     20\n",
       "525357        paradee  female         0.97     38\n",
       "\n",
       "[525358 rows x 4 columns]"
      ]
     },
     "execution_count": 189,
     "metadata": {},
     "output_type": "execute_result"
    }
   ],
   "source": [
    "gender_result_first_name_df_csv.reset_index(drop=True)"
   ]
  },
  {
   "cell_type": "markdown",
   "metadata": {},
   "source": [
    "# Wikigender"
   ]
  },
  {
   "cell_type": "code",
   "execution_count": 154,
   "metadata": {},
   "outputs": [],
   "source": [
    "from Wiki_Gendersort.Wiki_Gendersort import name_to_gender"
   ]
  },
  {
   "cell_type": "code",
   "execution_count": 6,
   "metadata": {},
   "outputs": [],
   "source": [
    "from multiprocessing import Pool"
   ]
  },
  {
   "cell_type": "code",
   "execution_count": 7,
   "metadata": {},
   "outputs": [],
   "source": [
    "import os"
   ]
  },
  {
   "cell_type": "code",
   "execution_count": 90,
   "metadata": {},
   "outputs": [],
   "source": [
    "import time\n",
    "import re"
   ]
  },
  {
   "cell_type": "code",
   "execution_count": 200,
   "metadata": {},
   "outputs": [
    {
     "name": "stderr",
     "output_type": "stream",
     "text": [
      "/home/munj/anaconda3/lib/python3.7/site-packages/tqdm/std.py:648: FutureWarning: The Panel class is removed from pandas. Accessing it from the top-level namespace will also be removed in the next version\n",
      "  from pandas import Panel\n"
     ]
    }
   ],
   "source": [
    "import pandas as pd\n",
    "from tqdm import tqdm\n",
    "tqdm.pandas()"
   ]
  },
  {
   "cell_type": "code",
   "execution_count": 202,
   "metadata": {},
   "outputs": [],
   "source": [
    "gender_result_first_name_df_csv = gender_result_first_name_df_csv[gender_result_first_name_df_csv.notna()]"
   ]
  },
  {
   "cell_type": "code",
   "execution_count": 204,
   "metadata": {
    "collapsed": true,
    "jupyter": {
     "outputs_hidden": true
    }
   },
   "outputs": [
    {
     "data": {
      "text/plain": [
       "0       male\n",
       "1        UNK\n",
       "2       male\n",
       "3       male\n",
       "4       male\n",
       "5     female\n",
       "6       male\n",
       "7       male\n",
       "8        UNK\n",
       "9          F\n",
       "10      male\n",
       "11      male\n",
       "12         M\n",
       "13      male\n",
       "14         M\n",
       "15       NaN\n",
       "16      male\n",
       "17      male\n",
       "18      male\n",
       "19      male\n",
       "20    female\n",
       "21      male\n",
       "22      male\n",
       "23      male\n",
       "24    female\n",
       "25    female\n",
       "26       NaN\n",
       "27    female\n",
       "28    female\n",
       "29      male\n",
       "30       NaN\n",
       "31    female\n",
       "32       NaN\n",
       "33      male\n",
       "34       NaN\n",
       "35       NaN\n",
       "36       NaN\n",
       "37       NaN\n",
       "38    female\n",
       "39       NaN\n",
       "40       NaN\n",
       "41       NaN\n",
       "42    female\n",
       "43       NaN\n",
       "44      male\n",
       "45       NaN\n",
       "46       NaN\n",
       "47       NaN\n",
       "48      male\n",
       "49      male\n",
       "Name: gender, dtype: object"
      ]
     },
     "execution_count": 204,
     "metadata": {},
     "output_type": "execute_result"
    }
   ],
   "source": [
    "gender_result_first_name_df_csv['gender'][:50]"
   ]
  },
  {
   "cell_type": "code",
   "execution_count": 201,
   "metadata": {},
   "outputs": [
    {
     "name": "stderr",
     "output_type": "stream",
     "text": [
      "  1%|          | 1905/288519 [25:34<81:00:01,  1.02s/it] "
     ]
    },
    {
     "ename": "TypeError",
     "evalue": "object of type 'float' has no len()",
     "output_type": "error",
     "traceback": [
      "\u001b[0;31m---------------------------------------------------------------------------\u001b[0m",
      "\u001b[0;31mTypeError\u001b[0m                                 Traceback (most recent call last)",
      "\u001b[0;32m<ipython-input-201-08201af2b708>\u001b[0m in \u001b[0;36m<module>\u001b[0;34m\u001b[0m\n\u001b[0;32m----> 1\u001b[0;31m \u001b[0mgender_result_first_name_df_csv\u001b[0m\u001b[0;34m.\u001b[0m\u001b[0mloc\u001b[0m\u001b[0;34m[\u001b[0m\u001b[0mgender_result_first_name_df_csv\u001b[0m\u001b[0;34m[\u001b[0m\u001b[0;34m'probability'\u001b[0m\u001b[0;34m]\u001b[0m\u001b[0;34m<\u001b[0m\u001b[0;36m0.7\u001b[0m\u001b[0;34m,\u001b[0m\u001b[0;34m'gender'\u001b[0m\u001b[0;34m]\u001b[0m\u001b[0;34m=\u001b[0m \u001b[0mgender_result_first_name_df_csv\u001b[0m\u001b[0;34m[\u001b[0m\u001b[0mgender_result_first_name_df_csv\u001b[0m\u001b[0;34m[\u001b[0m\u001b[0;34m'probability'\u001b[0m\u001b[0;34m]\u001b[0m\u001b[0;34m<\u001b[0m\u001b[0;36m0.7\u001b[0m\u001b[0;34m]\u001b[0m\u001b[0;34m[\u001b[0m\u001b[0;34m'name'\u001b[0m\u001b[0;34m]\u001b[0m\u001b[0;34m.\u001b[0m\u001b[0mprogress_apply\u001b[0m\u001b[0;34m(\u001b[0m\u001b[0;32mlambda\u001b[0m \u001b[0mx\u001b[0m\u001b[0;34m:\u001b[0m \u001b[0mname_to_gender\u001b[0m\u001b[0;34m(\u001b[0m\u001b[0mx\u001b[0m\u001b[0;34m)\u001b[0m\u001b[0;34m[\u001b[0m\u001b[0;36m0\u001b[0m\u001b[0;34m]\u001b[0m\u001b[0;34m)\u001b[0m\u001b[0;34m\u001b[0m\u001b[0;34m\u001b[0m\u001b[0m\n\u001b[0m",
      "\u001b[0;32m~/anaconda3/lib/python3.7/site-packages/tqdm/std.py\u001b[0m in \u001b[0;36minner\u001b[0;34m(df, func, *args, **kwargs)\u001b[0m\n\u001b[1;32m    734\u001b[0m                 \u001b[0;31m# Apply the provided function (in **kwargs)\u001b[0m\u001b[0;34m\u001b[0m\u001b[0;34m\u001b[0m\u001b[0;34m\u001b[0m\u001b[0m\n\u001b[1;32m    735\u001b[0m                 \u001b[0;31m# on the df using our wrapper (which provides bar updating)\u001b[0m\u001b[0;34m\u001b[0m\u001b[0;34m\u001b[0m\u001b[0;34m\u001b[0m\u001b[0m\n\u001b[0;32m--> 736\u001b[0;31m                 \u001b[0mresult\u001b[0m \u001b[0;34m=\u001b[0m \u001b[0mgetattr\u001b[0m\u001b[0;34m(\u001b[0m\u001b[0mdf\u001b[0m\u001b[0;34m,\u001b[0m \u001b[0mdf_function\u001b[0m\u001b[0;34m)\u001b[0m\u001b[0;34m(\u001b[0m\u001b[0mwrapper\u001b[0m\u001b[0;34m,\u001b[0m \u001b[0;34m**\u001b[0m\u001b[0mkwargs\u001b[0m\u001b[0;34m)\u001b[0m\u001b[0;34m\u001b[0m\u001b[0;34m\u001b[0m\u001b[0m\n\u001b[0m\u001b[1;32m    737\u001b[0m \u001b[0;34m\u001b[0m\u001b[0m\n\u001b[1;32m    738\u001b[0m                 \u001b[0;31m# Close bar and return pandas calculation result\u001b[0m\u001b[0;34m\u001b[0m\u001b[0;34m\u001b[0m\u001b[0;34m\u001b[0m\u001b[0m\n",
      "\u001b[0;32m~/anaconda3/lib/python3.7/site-packages/pandas/core/series.py\u001b[0m in \u001b[0;36mapply\u001b[0;34m(self, func, convert_dtype, args, **kwds)\u001b[0m\n\u001b[1;32m   4040\u001b[0m             \u001b[0;32melse\u001b[0m\u001b[0;34m:\u001b[0m\u001b[0;34m\u001b[0m\u001b[0;34m\u001b[0m\u001b[0m\n\u001b[1;32m   4041\u001b[0m                 \u001b[0mvalues\u001b[0m \u001b[0;34m=\u001b[0m \u001b[0mself\u001b[0m\u001b[0;34m.\u001b[0m\u001b[0mastype\u001b[0m\u001b[0;34m(\u001b[0m\u001b[0mobject\u001b[0m\u001b[0;34m)\u001b[0m\u001b[0;34m.\u001b[0m\u001b[0mvalues\u001b[0m\u001b[0;34m\u001b[0m\u001b[0;34m\u001b[0m\u001b[0m\n\u001b[0;32m-> 4042\u001b[0;31m                 \u001b[0mmapped\u001b[0m \u001b[0;34m=\u001b[0m \u001b[0mlib\u001b[0m\u001b[0;34m.\u001b[0m\u001b[0mmap_infer\u001b[0m\u001b[0;34m(\u001b[0m\u001b[0mvalues\u001b[0m\u001b[0;34m,\u001b[0m \u001b[0mf\u001b[0m\u001b[0;34m,\u001b[0m \u001b[0mconvert\u001b[0m\u001b[0;34m=\u001b[0m\u001b[0mconvert_dtype\u001b[0m\u001b[0;34m)\u001b[0m\u001b[0;34m\u001b[0m\u001b[0;34m\u001b[0m\u001b[0m\n\u001b[0m\u001b[1;32m   4043\u001b[0m \u001b[0;34m\u001b[0m\u001b[0m\n\u001b[1;32m   4044\u001b[0m         \u001b[0;32mif\u001b[0m \u001b[0mlen\u001b[0m\u001b[0;34m(\u001b[0m\u001b[0mmapped\u001b[0m\u001b[0;34m)\u001b[0m \u001b[0;32mand\u001b[0m \u001b[0misinstance\u001b[0m\u001b[0;34m(\u001b[0m\u001b[0mmapped\u001b[0m\u001b[0;34m[\u001b[0m\u001b[0;36m0\u001b[0m\u001b[0;34m]\u001b[0m\u001b[0;34m,\u001b[0m \u001b[0mSeries\u001b[0m\u001b[0;34m)\u001b[0m\u001b[0;34m:\u001b[0m\u001b[0;34m\u001b[0m\u001b[0;34m\u001b[0m\u001b[0m\n",
      "\u001b[0;32mpandas/_libs/lib.pyx\u001b[0m in \u001b[0;36mpandas._libs.lib.map_infer\u001b[0;34m()\u001b[0m\n",
      "\u001b[0;32m~/anaconda3/lib/python3.7/site-packages/tqdm/std.py\u001b[0m in \u001b[0;36mwrapper\u001b[0;34m(*args, **kwargs)\u001b[0m\n\u001b[1;32m    730\u001b[0m                     \u001b[0;31m# take a fast or slow code path; so stop when t.total==t.n\u001b[0m\u001b[0;34m\u001b[0m\u001b[0;34m\u001b[0m\u001b[0;34m\u001b[0m\u001b[0m\n\u001b[1;32m    731\u001b[0m                     \u001b[0mt\u001b[0m\u001b[0;34m.\u001b[0m\u001b[0mupdate\u001b[0m\u001b[0;34m(\u001b[0m\u001b[0mn\u001b[0m\u001b[0;34m=\u001b[0m\u001b[0;36m1\u001b[0m \u001b[0;32mif\u001b[0m \u001b[0;32mnot\u001b[0m \u001b[0mt\u001b[0m\u001b[0;34m.\u001b[0m\u001b[0mtotal\u001b[0m \u001b[0;32mor\u001b[0m \u001b[0mt\u001b[0m\u001b[0;34m.\u001b[0m\u001b[0mn\u001b[0m \u001b[0;34m<\u001b[0m \u001b[0mt\u001b[0m\u001b[0;34m.\u001b[0m\u001b[0mtotal\u001b[0m \u001b[0;32melse\u001b[0m \u001b[0;36m0\u001b[0m\u001b[0;34m)\u001b[0m\u001b[0;34m\u001b[0m\u001b[0;34m\u001b[0m\u001b[0m\n\u001b[0;32m--> 732\u001b[0;31m                     \u001b[0;32mreturn\u001b[0m \u001b[0mfunc\u001b[0m\u001b[0;34m(\u001b[0m\u001b[0;34m*\u001b[0m\u001b[0margs\u001b[0m\u001b[0;34m,\u001b[0m \u001b[0;34m**\u001b[0m\u001b[0mkwargs\u001b[0m\u001b[0;34m)\u001b[0m\u001b[0;34m\u001b[0m\u001b[0;34m\u001b[0m\u001b[0m\n\u001b[0m\u001b[1;32m    733\u001b[0m \u001b[0;34m\u001b[0m\u001b[0m\n\u001b[1;32m    734\u001b[0m                 \u001b[0;31m# Apply the provided function (in **kwargs)\u001b[0m\u001b[0;34m\u001b[0m\u001b[0;34m\u001b[0m\u001b[0;34m\u001b[0m\u001b[0m\n",
      "\u001b[0;32m<ipython-input-201-08201af2b708>\u001b[0m in \u001b[0;36m<lambda>\u001b[0;34m(x)\u001b[0m\n\u001b[0;32m----> 1\u001b[0;31m \u001b[0mgender_result_first_name_df_csv\u001b[0m\u001b[0;34m.\u001b[0m\u001b[0mloc\u001b[0m\u001b[0;34m[\u001b[0m\u001b[0mgender_result_first_name_df_csv\u001b[0m\u001b[0;34m[\u001b[0m\u001b[0;34m'probability'\u001b[0m\u001b[0;34m]\u001b[0m\u001b[0;34m<\u001b[0m\u001b[0;36m0.7\u001b[0m\u001b[0;34m,\u001b[0m\u001b[0;34m'gender'\u001b[0m\u001b[0;34m]\u001b[0m\u001b[0;34m=\u001b[0m \u001b[0mgender_result_first_name_df_csv\u001b[0m\u001b[0;34m[\u001b[0m\u001b[0mgender_result_first_name_df_csv\u001b[0m\u001b[0;34m[\u001b[0m\u001b[0;34m'probability'\u001b[0m\u001b[0;34m]\u001b[0m\u001b[0;34m<\u001b[0m\u001b[0;36m0.7\u001b[0m\u001b[0;34m]\u001b[0m\u001b[0;34m[\u001b[0m\u001b[0;34m'name'\u001b[0m\u001b[0;34m]\u001b[0m\u001b[0;34m.\u001b[0m\u001b[0mprogress_apply\u001b[0m\u001b[0;34m(\u001b[0m\u001b[0;32mlambda\u001b[0m \u001b[0mx\u001b[0m\u001b[0;34m:\u001b[0m \u001b[0mname_to_gender\u001b[0m\u001b[0;34m(\u001b[0m\u001b[0mx\u001b[0m\u001b[0;34m)\u001b[0m\u001b[0;34m[\u001b[0m\u001b[0;36m0\u001b[0m\u001b[0;34m]\u001b[0m\u001b[0;34m)\u001b[0m\u001b[0;34m\u001b[0m\u001b[0;34m\u001b[0m\u001b[0m\n\u001b[0m",
      "\u001b[0;32m~/report2vec/Analysis/MAG/2019/Wiki_Gendersort/Wiki_Gendersort.py\u001b[0m in \u001b[0;36mname_to_gender\u001b[0;34m(name)\u001b[0m\n\u001b[1;32m    141\u001b[0m     \u001b[0mlog_data\u001b[0m \u001b[0;34m=\u001b[0m \u001b[0mname\u001b[0m\u001b[0;34m\u001b[0m\u001b[0;34m\u001b[0m\u001b[0m\n\u001b[1;32m    142\u001b[0m     \u001b[0mgender\u001b[0m \u001b[0;34m=\u001b[0m \u001b[0;34m'UNK'\u001b[0m\u001b[0;34m\u001b[0m\u001b[0;34m\u001b[0m\u001b[0m\n\u001b[0;32m--> 143\u001b[0;31m     \u001b[0;32mif\u001b[0m \u001b[0mlen\u001b[0m\u001b[0;34m(\u001b[0m\u001b[0mname\u001b[0m\u001b[0;34m)\u001b[0m \u001b[0;34m==\u001b[0m \u001b[0;36m0\u001b[0m \u001b[0;32mor\u001b[0m \u001b[0mlen\u001b[0m\u001b[0;34m(\u001b[0m\u001b[0mname\u001b[0m\u001b[0;34m.\u001b[0m\u001b[0msplit\u001b[0m\u001b[0;34m(\u001b[0m\u001b[0;34m)\u001b[0m\u001b[0;34m)\u001b[0m \u001b[0;34m==\u001b[0m \u001b[0;36m0\u001b[0m \u001b[0;32mor\u001b[0m \u001b[0mname\u001b[0m\u001b[0;34m.\u001b[0m\u001b[0mupper\u001b[0m\u001b[0;34m(\u001b[0m\u001b[0;34m)\u001b[0m \u001b[0;34m==\u001b[0m \u001b[0;34m'NULL'\u001b[0m\u001b[0;34m:\u001b[0m\u001b[0;34m\u001b[0m\u001b[0;34m\u001b[0m\u001b[0m\n\u001b[0m\u001b[1;32m    144\u001b[0m         \u001b[0mgender\u001b[0m \u001b[0;34m=\u001b[0m \u001b[0;34m'INI'\u001b[0m\u001b[0;34m\u001b[0m\u001b[0;34m\u001b[0m\u001b[0m\n\u001b[1;32m    145\u001b[0m         \u001b[0mlog_data\u001b[0m \u001b[0;34m+=\u001b[0m \u001b[0;34m'\\nname is empty\\n'\u001b[0m\u001b[0;34m\u001b[0m\u001b[0;34m\u001b[0m\u001b[0m\n",
      "\u001b[0;31mTypeError\u001b[0m: object of type 'float' has no len()"
     ]
    }
   ],
   "source": [
    "gender_result_first_name_df_csv.loc[gender_result_first_name_df_csv['probability']<0.7,'gender']= gender_result_first_name_df_csv[gender_result_first_name_df_csv['probability']<0.7]['name'].progress_apply(lambda x: name_to_gender(x)[0])"
   ]
  },
  {
   "cell_type": "code",
   "execution_count": null,
   "metadata": {},
   "outputs": [],
   "source": []
  },
  {
   "cell_type": "code",
   "execution_count": null,
   "metadata": {},
   "outputs": [],
   "source": []
  },
  {
   "cell_type": "code",
   "execution_count": null,
   "metadata": {},
   "outputs": [],
   "source": []
  },
  {
   "cell_type": "code",
   "execution_count": null,
   "metadata": {},
   "outputs": [],
   "source": []
  },
  {
   "cell_type": "code",
   "execution_count": null,
   "metadata": {},
   "outputs": [],
   "source": []
  },
  {
   "cell_type": "code",
   "execution_count": 72,
   "metadata": {
    "collapsed": true,
    "jupyter": {
     "outputs_hidden": true
    }
   },
   "outputs": [
    {
     "name": "stderr",
     "output_type": "stream",
     "text": [
      "\n",
      "\n",
      "\n",
      "  0%|          | 0/50 [00:00<?, ?it/s]\u001b[A\u001b[A\u001b[A\n",
      "\n",
      "\n",
      "  4%|▍         | 2/50 [00:01<00:32,  1.48it/s]\u001b[A\u001b[A\u001b[A\n",
      "\n",
      "\n",
      "  6%|▌         | 3/50 [00:02<00:36,  1.30it/s]\u001b[A\u001b[A\u001b[A\n",
      "\n",
      "\n",
      "  8%|▊         | 4/50 [00:04<00:53,  1.15s/it]\u001b[A\u001b[A\u001b[A\n",
      "\n",
      "\n",
      " 10%|█         | 5/50 [00:05<00:48,  1.07s/it]\u001b[A\u001b[A\u001b[A\n",
      "\n",
      "\n",
      " 12%|█▏        | 6/50 [00:06<00:45,  1.03s/it]\u001b[A\u001b[A\u001b[A\n",
      "\n",
      "\n",
      " 14%|█▍        | 7/50 [00:07<00:42,  1.01it/s]\u001b[A\u001b[A\u001b[A\n",
      "\n",
      "\n",
      " 16%|█▌        | 8/50 [00:08<00:46,  1.12s/it]\u001b[A\u001b[A\u001b[A\n",
      "\n",
      "\n",
      " 18%|█▊        | 9/50 [00:10<00:50,  1.23s/it]\u001b[A\u001b[A\u001b[A\n",
      "\n",
      "\n",
      " 20%|██        | 10/50 [00:11<00:48,  1.21s/it]\u001b[A\u001b[A\u001b[A\n",
      "\n",
      "\n",
      " 22%|██▏       | 11/50 [00:12<00:44,  1.14s/it]\u001b[A\u001b[A\u001b[A\n",
      "\n",
      "\n",
      " 24%|██▍       | 12/50 [00:13<00:40,  1.06s/it]\u001b[A\u001b[A\u001b[A\n",
      "\n",
      "\n",
      " 26%|██▌       | 13/50 [00:13<00:37,  1.02s/it]\u001b[A\u001b[A\u001b[A\n",
      "\n",
      "\n",
      " 28%|██▊       | 14/50 [00:14<00:35,  1.02it/s]\u001b[A\u001b[A\u001b[A\n",
      "\n",
      "\n",
      " 30%|███       | 15/50 [00:15<00:33,  1.04it/s]\u001b[A\u001b[A\u001b[A\n",
      "\n",
      "\n",
      " 32%|███▏      | 16/50 [00:17<00:36,  1.09s/it]\u001b[A\u001b[A\u001b[A\n",
      "\n",
      "\n",
      " 36%|███▌      | 18/50 [00:18<00:29,  1.07it/s]\u001b[A\u001b[A\u001b[A\n",
      "\n",
      "\n",
      " 38%|███▊      | 19/50 [00:19<00:28,  1.10it/s]\u001b[A\u001b[A\u001b[A\n",
      "\n",
      "\n",
      " 40%|████      | 20/50 [00:20<00:27,  1.10it/s]\u001b[A\u001b[A\u001b[A\n",
      "\n",
      "\n",
      " 42%|████▏     | 21/50 [00:21<00:27,  1.06it/s]\u001b[A\u001b[A\u001b[A\n",
      "\n",
      "\n",
      " 44%|████▍     | 22/50 [00:21<00:25,  1.08it/s]\u001b[A\u001b[A\u001b[A\n",
      "\n",
      "\n",
      " 46%|████▌     | 23/50 [00:23<00:28,  1.06s/it]\u001b[A\u001b[A\u001b[A\n",
      "\n",
      "\n",
      " 48%|████▊     | 24/50 [00:24<00:31,  1.21s/it]\u001b[A\u001b[A\u001b[A\n",
      "\n",
      "\n",
      " 50%|█████     | 25/50 [00:26<00:31,  1.27s/it]\u001b[A\u001b[A\u001b[A\n",
      "\n",
      "\n",
      " 52%|█████▏    | 26/50 [00:27<00:32,  1.34s/it]\u001b[A\u001b[A\u001b[A\n",
      "\n",
      "\n",
      " 54%|█████▍    | 27/50 [00:29<00:30,  1.31s/it]\u001b[A\u001b[A\u001b[A\n",
      "\n",
      "\n",
      " 56%|█████▌    | 28/50 [00:29<00:25,  1.18s/it]\u001b[A\u001b[A\u001b[A\n",
      "\n",
      "\n",
      " 58%|█████▊    | 29/50 [00:30<00:23,  1.10s/it]\u001b[A\u001b[A\u001b[A\n",
      "\n",
      "\n",
      " 60%|██████    | 30/50 [00:31<00:21,  1.05s/it]\u001b[A\u001b[A\u001b[A\n",
      "\n",
      "\n",
      " 62%|██████▏   | 31/50 [00:32<00:19,  1.05s/it]\u001b[A\u001b[A\u001b[A\n",
      "\n",
      "\n",
      " 64%|██████▍   | 32/50 [00:33<00:18,  1.00s/it]\u001b[A\u001b[A\u001b[A\n",
      "\n",
      "\n",
      " 66%|██████▌   | 33/50 [00:34<00:16,  1.01it/s]\u001b[A\u001b[A\u001b[A\n",
      "\n",
      "\n",
      " 68%|██████▊   | 34/50 [00:35<00:15,  1.01it/s]\u001b[A\u001b[A\u001b[A\n",
      "\n",
      "\n",
      " 70%|███████   | 35/50 [00:36<00:14,  1.03it/s]\u001b[A\u001b[A\u001b[A\n",
      "\n",
      "\n",
      " 72%|███████▏  | 36/50 [00:38<00:16,  1.18s/it]\u001b[A\u001b[A\u001b[A\n",
      "\n",
      "\n",
      " 74%|███████▍  | 37/50 [00:39<00:14,  1.12s/it]\u001b[A\u001b[A\u001b[A\n",
      "\n",
      "\n",
      " 78%|███████▊  | 39/50 [00:40<00:10,  1.10it/s]\u001b[A\u001b[A\u001b[A\n",
      "\n",
      "\n",
      " 80%|████████  | 40/50 [00:41<00:09,  1.05it/s]\u001b[A\u001b[A\u001b[A\n",
      "\n",
      "\n",
      " 82%|████████▏ | 41/50 [00:41<00:08,  1.10it/s]\u001b[A\u001b[A\u001b[A\n",
      "\n",
      "\n",
      " 84%|████████▍ | 42/50 [00:42<00:07,  1.13it/s]\u001b[A\u001b[A\u001b[A\n",
      "\n",
      "\n",
      " 86%|████████▌ | 43/50 [00:44<00:07,  1.06s/it]\u001b[A\u001b[A\u001b[A\n",
      "\n",
      "\n",
      " 90%|█████████ | 45/50 [00:45<00:04,  1.07it/s]\u001b[A\u001b[A\u001b[A\n",
      "\n",
      "\n",
      " 92%|█████████▏| 46/50 [00:46<00:03,  1.10it/s]\u001b[A\u001b[A\u001b[A\n",
      "\n",
      "\n",
      " 94%|█████████▍| 47/50 [00:47<00:02,  1.12it/s]\u001b[A\u001b[A\u001b[A\n",
      "\n",
      "\n",
      " 96%|█████████▌| 48/50 [00:48<00:02,  1.04s/it]\u001b[A\u001b[A\u001b[A\n",
      "\n",
      "\n",
      "100%|██████████| 50/50 [00:50<00:00,  1.02s/it]\u001b[A\u001b[A\u001b[A\n"
     ]
    },
    {
     "data": {
      "text/plain": [
       "351    (UNK, sarathchandra\\n1\\nsarathchandra = 0H 0F\\...\n",
       "352    (UNK, kongde\\n1\\nkongde = 0H 0F\\n2021-11-07 15...\n",
       "353    (UNK, bollard\\n1\\nbollard = 0H 0F\\n2021-11-07 ...\n",
       "354    (F, solvita\\n1\\nsolvita = 0H 0F\\n2021-11-07 15...\n",
       "355    (UNK, zhuochun\\n1\\nzhuochun = 0H 0F\\n2021-11-0...\n",
       "356    (UNK, gwangrok\\n1\\ngwangrok = 0H 0F\\n2021-11-0...\n",
       "357    (M, ardianto\\n1\\nardianto = 0H 0F\\n2021-11-07 ...\n",
       "358    (UNK, tejero\\n1\\ntejero = 0H 0F\\n2021-11-07 15...\n",
       "359    (F, noorzaily\\n1\\nnoorzaily = 0H 0F\\n2021-11-0...\n",
       "360    (UNK, christudas\\n1\\nchristudas = 0H 0F\\n2021-...\n",
       "361    (UNK, колотницький\\n1\\nколотницький = 0H 0F\\n2...\n",
       "362    (UNK, doudart\\n1\\ndoudart = 0H 0F\\n2021-11-07 ...\n",
       "363    (UNK, knoedgen\\n1\\nknoedgen = 0H 0F\\n2021-11-0...\n",
       "364    (UNK, namkwon\\n1\\nnamkwon = 0H 0F\\n2021-11-07 ...\n",
       "365    (M, guss\\n1\\nguss = 0H 0F\\n2021-11-07 15:18:21...\n",
       "366    (INI, 제혜금\\nname is initials\\n2021-11-07 15:18:...\n",
       "367    (UNK, divay\\n1\\ndivay = 0H 0F\\n2021-11-07 15:1...\n",
       "368    (UNK, shumani\\n1\\nshumani = 0H 0F\\n2021-11-07 ...\n",
       "369    (UNK, rêmulo\\n1\\nrêmulo = 0H 0F\\n2021-11-07 15...\n",
       "370    (F, jim-yuh\\n1\\njim-yuh = 0H 0F\\n2021-11-07 15...\n",
       "371    (UNK, spinillo\\n1\\nspinillo = 0H 0F\\n2021-11-0...\n",
       "372    (F, taira\\n1\\ntaira = 0H 0F\\n2021-11-07 15:18:...\n",
       "373    (UNK, medellín\\n1\\nmedellín = 0H 0F\\n2021-11-0...\n",
       "374    (UNK, bistro\\n1\\nbistro = 0H 0F\\n2021-11-07 15...\n",
       "375    (UNK, jan-louise\\n1\\njan-louise = 0H 0F\\n2021-...\n",
       "376    (M, shaowei\\n1\\nshaowei = 0H 0F\\n2021-11-07 15...\n",
       "377    (UNK, munetsugu\\n1\\nmunetsugu = 0H 0F\\n2021-11...\n",
       "378    (UNK, feigenbutz\\n1\\nfeigenbutz = 0H 0F\\n2021-...\n",
       "379    (UNK, sinmanat\\n1\\nsinmanat = 0H 0F\\n2021-11-0...\n",
       "380    (M, prikryl\\n1\\nprikryl = 0H 0F\\n2021-11-07 15...\n",
       "381    (UNK, кислинська\\n1\\nкислинська = 0H 0F\\n2021-...\n",
       "382    (UNK, синити\\n1\\nсинити = 0H 0F\\n2021-11-07 15...\n",
       "383    (UNK, geuss\\n1\\ngeuss = 0H 0F\\n2021-11-07 15:1...\n",
       "384    (UNK, micout\\n1\\nmicout = 0H 0F\\n2021-11-07 15...\n",
       "385    (UNK, book\\n1\\nbook = 0H 0F\\n2021-11-07 15:18:...\n",
       "386    (UNK, мосієнко\\n1\\nмосієнко = 0H 0F\\n2021-11-0...\n",
       "387    (INI, 미치오\\nname is initials\\n2021-11-07 15:18:...\n",
       "388    (UNK, gladysani\\n1\\ngladysani = 0H 0F\\n2021-11...\n",
       "389    (M, corne\\n1\\ncorne = 0H 0F\\n2021-11-07 15:18:...\n",
       "390    (UNK, noisshiki\\n1\\nnoisshiki = 0H 0F\\n2021-11...\n",
       "391    (UNK, renolf\\n1\\nrenolf = 0H 0F\\n2021-11-07 15...\n",
       "392    (F, devrim\\n1\\ndevrim = 0H 0F\\n2021-11-07 15:1...\n",
       "393    (INI, 이정은\\nname is initials\\n2021-11-07 15:18:...\n",
       "394    (F, ildebrando\\n1\\nildebrando = 0H 0F\\n2021-11...\n",
       "395    (UNK, ditges\\n1\\nditges = 0H 0F\\n2021-11-07 15...\n",
       "396    (UNK, alhaynurika\\n1\\nalhaynurika = 0H 0F\\n202...\n",
       "397    (M, murlis\\n1\\nmurlis = 0H 0F\\n2021-11-07 15:1...\n",
       "398    (UNK, madhubani\\n1\\nmadhubani = 0H 0F\\n2021-11...\n",
       "399    (INI, 河添\\nname is initials\\n2021-11-07 15:18:5...\n",
       "400    (UNK, vardipilcan\\n1\\nvardipilcan = 0H 0F\\n202...\n",
       "Name: name, dtype: object"
      ]
     },
     "execution_count": 72,
     "metadata": {},
     "output_type": "execute_result"
    }
   ],
   "source": [
    "gender_result_first_name_df['name'][350:400].progress_apply(lambda x: name_to_gender(x))"
   ]
  },
  {
   "cell_type": "code",
   "execution_count": 77,
   "metadata": {},
   "outputs": [],
   "source": [
    "import parmap"
   ]
  },
  {
   "cell_type": "code",
   "execution_count": 78,
   "metadata": {},
   "outputs": [
    {
     "data": {
      "text/plain": [
       "72"
      ]
     },
     "execution_count": 78,
     "metadata": {},
     "output_type": "execute_result"
    }
   ],
   "source": [
    "os.cpu_count()"
   ]
  },
  {
   "cell_type": "code",
   "execution_count": 79,
   "metadata": {},
   "outputs": [
    {
     "name": "stderr",
     "output_type": "stream",
     "text": [
      "/home/munj/anaconda3/lib/python3.7/site-packages/parmap/parmap.py:120: UserWarning: '<' not supported between instances of 'str' and 'int'\n",
      "  warnings.warn(str(exc))\n"
     ]
    },
    {
     "data": {
      "application/vnd.jupyter.widget-view+json": {
       "model_id": "0aca29a09b4e4a49a02c94d9bf43a740",
       "version_major": 2,
       "version_minor": 0
      },
      "text/plain": [
       "HBox(children=(IntProgress(value=0, max=50), HTML(value='')))"
      ]
     },
     "metadata": {},
     "output_type": "display_data"
    },
    {
     "name": "stdout",
     "output_type": "stream",
     "text": [
      "\n"
     ]
    }
   ],
   "source": [
    "result = parmap.map(name_to_gender, gender_result_first_name_df['name'][450:500], pm_pbar=True, pm_processes='10')"
   ]
  },
  {
   "cell_type": "code",
   "execution_count": 83,
   "metadata": {},
   "outputs": [],
   "source": [
    "import tqdm"
   ]
  },
  {
   "cell_type": "code",
   "execution_count": 84,
   "metadata": {},
   "outputs": [
    {
     "data": {
      "application/vnd.jupyter.widget-view+json": {
       "model_id": "c8e8233320534df289d259659bd58eca",
       "version_major": 2,
       "version_minor": 0
      },
      "text/plain": [
       "HBox(children=(IntProgress(value=0, max=3), HTML(value='')))"
      ]
     },
     "metadata": {},
     "output_type": "display_data"
    },
    {
     "name": "stdout",
     "output_type": "stream",
     "text": [
      "\n"
     ]
    }
   ],
   "source": [
    "y = parmap.map(np.sqrt, [1,2,3], pm_pbar=True)"
   ]
  },
  {
   "cell_type": "code",
   "execution_count": 85,
   "metadata": {},
   "outputs": [
    {
     "data": {
      "text/plain": [
       "[1.0, 1.4142135623730951, 1.7320508075688772]"
      ]
     },
     "execution_count": 85,
     "metadata": {},
     "output_type": "execute_result"
    }
   ],
   "source": [
    "y"
   ]
  },
  {
   "cell_type": "code",
   "execution_count": null,
   "metadata": {},
   "outputs": [],
   "source": []
  }
 ],
 "metadata": {
  "kernelspec": {
   "display_name": "Python 3",
   "language": "python",
   "name": "python3"
  },
  "language_info": {
   "codemirror_mode": {
    "name": "ipython",
    "version": 3
   },
   "file_extension": ".py",
   "mimetype": "text/x-python",
   "name": "python",
   "nbconvert_exporter": "python",
   "pygments_lexer": "ipython3",
   "version": "3.7.4"
  }
 },
 "nbformat": 4,
 "nbformat_minor": 4
}
